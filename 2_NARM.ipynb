{
  "cells": [
    {
      "cell_type": "code",
      "execution_count": null,
      "metadata": {
        "id": "TpI_-XulCCgJ",
        "colab": {
          "base_uri": "https://localhost:8080/"
        },
        "outputId": "ff44cc06-f089-427c-bff3-d9b01fdde9f7"
      },
      "outputs": [
        {
          "output_type": "stream",
          "name": "stdout",
          "text": [
            "\n"
          ]
        }
      ],
      "source": [
        "import numpy as np\n",
        "import torch\n",
        "import torch.nn as nn\n",
        "from torch.nn.init import xavier_uniform_, xavier_normal_\n",
        "import matplotlib.pyplot as plt\n",
        "\n",
        "from process_data import data, train_data, test_data, item_set\n",
        "from process_data import TrainDataset, MyDataset, get_dataloader\n",
        "\n",
        "\n",
        "import warnings\n",
        "warnings.filterwarnings(\"ignore\")"
      ]
    },
    {
      "cell_type": "markdown",
      "metadata": {
        "id": "8V6WOQ3KCCgq",
        "jp-MarkdownHeadingCollapsed": true,
        "tags": []
      },
      "source": [
        "# 一、NARM搭建"
      ]
    },
    {
      "cell_type": "markdown",
      "metadata": {
        "id": "bBb-RO1xpYu8"
      },
      "source": [
        "<img src=\"NARMworkflow.png\" style=\"width:500px;height:300px;\">"
      ]
    },
    {
      "cell_type": "code",
      "execution_count": null,
      "metadata": {
        "id": "UJnTJKgSpYu8"
      },
      "outputs": [],
      "source": [
        "class NARM(nn.Module):\n",
        "    def __init__(self, input_size, output_size, embedding_size, hidden_size, n_layers=1):\n",
        "        \"\"\"\n",
        "        input_size = output_size = num_item\n",
        "        \"\"\"\n",
        "        super(NARM, self).__init__()\n",
        "\n",
        "        # === 定义参数 ===\n",
        "        self.n_items = input_size\n",
        "        self.output_size = output_size\n",
        "        self.embedding_size = embedding_size\n",
        "        self.hidden_size = hidden_size\n",
        "        self.n_layers = n_layers\n",
        "\n",
        "        # === 定义layers ===\n",
        "        # 1. embedding layer\n",
        "        self.item_embedding = nn.Embedding(self.n_items, self.embedding_size, padding_idx=0)\n",
        "        self.emb_dropout = nn.Dropout(0.25)\n",
        "        # 2. GRU layer\n",
        "        self.gru = nn.GRU(input_size=self.embedding_size,\n",
        "                          hidden_size=self.hidden_size,\n",
        "                          num_layers=self.n_layers,\n",
        "                          bias=False,\n",
        "                          batch_first=True)\n",
        "        # 3. attention\n",
        "        self.A1 = nn.Linear(self.hidden_size, self.hidden_size, bias=False)\n",
        "        self.A2 = nn.Linear(self.hidden_size, self.hidden_size, bias=False)\n",
        "        self.v = nn.Linear(self.hidden_size, 1, bias=False)\n",
        "        self.ct_dropout = nn.Dropout(0.5)\n",
        "        # 4. feedforward layers\n",
        "        self.feedforward = nn.Linear(2*self.hidden_size, self.embedding_size)\n",
        "\n",
        "        # === 初始化参数 ===\n",
        "        xavier_normal_(self.item_embedding.weight)\n",
        "        xavier_uniform_(self.gru.weight_hh_l0)\n",
        "        xavier_uniform_(self.gru.weight_ih_l0)\n",
        "        xavier_normal_(self.feedforward.weight)\n",
        "\n",
        "    def forward(self, item_seq, item_seq_len):\n",
        "        \"\"\"\n",
        "        Params:\n",
        "            item_seq, shape = (batch_size, seq_len)\n",
        "        Return:\n",
        "            scores, shape = (batch_size*seq_len, output_size)\n",
        "        \"\"\"\n",
        "\n",
        "        # embedding layer\n",
        "        seq_embedding = self.item_embedding(item_seq) # [bs, seq_len, emb_size]\n",
        "        gru_input = self.emb_dropout(seq_embedding)\n",
        "\n",
        "        # GRU layer\n",
        "        gru_output, _ = self.gru(gru_input)  # [bs, seq_len, hidden_size]\n",
        "\n",
        "        mask = item_seq.gt(0)\n",
        "        # === global encoder ===\n",
        "        batchsize = mask.shape[0]\n",
        "        dim0_idx = torch.arange(batchsize).long()  # [0, 1, ..., bs-1]，batch中的每个session\n",
        "        dim1_idx = torch.sum(mask, 1) - 1  # [bs], 每个session中最后一个item的下标\n",
        "        c_global = ht = gru_output[dim0_idx, dim1_idx]  # global encoder output, [bs, hidden_size]\n",
        "\n",
        "        # === local encoder ===\n",
        "        q1 = self.A1(gru_output)  # [bs, seq_len, hidden_size]\n",
        "        q2 = self.A2(ht)  # [bs, hidden_size]\n",
        "\n",
        "        q2 = q2.unsqueeze(1).expand_as(q1)\n",
        "        mask = mask.unsqueeze(2).expand_as(gru_output)  # [bs, seq_len, hidden_size]\n",
        "        alpha = self.v(mask * torch.sigmoid(q1 + q2))  # [bs, seq_len, 1]\n",
        "        c_local = torch.sum(alpha.expand_as(gru_output) * gru_output, 1)  # local encoder output, [bs, hidden_size]\n",
        "\n",
        "        # concatenate\n",
        "        c_t = torch.cat([c_local, c_global], 1)\n",
        "        c_t = self.ct_dropout(c_t)  # [bs, 2*hidden_size]\n",
        "\n",
        "        # feed forward layer\n",
        "        output = self.feedforward(c_t)  # [bs, emb_size]\n",
        "\n",
        "        # 映射回item_size空间\n",
        "        output = output @ self.item_embedding.weight.T  # [bs, n_items]\n",
        "\n",
        "        return output\n",
        "\n",
        "    def predict(self, item_seq):\n",
        "        \"\"\"\n",
        "        Params:\n",
        "            item_seq, shape = (batch_size, seq_len)\n",
        "        Return:\n",
        "            final_score, shape = (batch_size, item_size)\n",
        "        \"\"\"\n",
        "        self.eval()\n",
        "        with torch.no_grad():\n",
        "            scores = self.forward(item_seq, item_seq.shape[1])  # [bs, n_items]\n",
        "        self.train()\n",
        "        return scores"
      ]
    },
    {
      "cell_type": "markdown",
      "metadata": {
        "id": "O8v4BfVKCCg2",
        "tags": []
      },
      "source": [
        "# 二、模型训练"
      ]
    },
    {
      "cell_type": "markdown",
      "metadata": {
        "tags": [],
        "id": "R8M2ywDFpYu-"
      },
      "source": [
        "## 评价指标"
      ]
    },
    {
      "cell_type": "code",
      "execution_count": null,
      "metadata": {
        "tags": [],
        "id": "aQdJBtKFpYu_"
      },
      "outputs": [],
      "source": [
        "def test_HR_MRR(model, test_dataset, k=20):\n",
        "    count = 0\n",
        "    score = 0\n",
        "    for X, y in test_dataset:\n",
        "        X = torch.tensor(X, dtype=torch.long).to(device)\n",
        "        X = X.unsqueeze(0)  # [1, seq_len]\n",
        "\n",
        "        # 预测\n",
        "        output = model.predict(X).cpu().detach()  # [1, item_size]\n",
        "        output = output.squeeze(0)\n",
        "        top_k = output.topk(k).indices.numpy()\n",
        "\n",
        "        if y in top_k:\n",
        "            # HR\n",
        "            count += 1\n",
        "            # MRR\n",
        "            rank_y = np.where(top_k == y)[0][0] + 1\n",
        "            score += 1 / rank_y\n",
        "\n",
        "    HR = count / len(test_dataset)\n",
        "    MRR = score / len(test_dataset)\n",
        "\n",
        "    return HR, MRR"
      ]
    },
    {
      "cell_type": "markdown",
      "metadata": {
        "id": "LTVEehi6CCg2",
        "tags": []
      },
      "source": [
        "## 1. 模型训练设置\n",
        "\n",
        "定义了NARM的`ModelTrain`类，打包训练过程"
      ]
    },
    {
      "cell_type": "code",
      "execution_count": null,
      "metadata": {
        "id": "zJJdTVh4CCg6",
        "tags": []
      },
      "outputs": [],
      "source": [
        "class ModelTrain:\n",
        "    def __init__(self, model, dataset, train_loader, test_loader, optimizer, loss_func, n_epoch):\n",
        "        self.model = model\n",
        "        self.train_dataset = dataset[0]\n",
        "        self.test_dataset = dataset[1]\n",
        "        self.train_loader = train_loader\n",
        "        self.test_loader = test_loader\n",
        "        self.optimizer = optimizer\n",
        "        self.loss_func = loss_func\n",
        "        self.n_epoch = n_epoch\n",
        "\n",
        "        # 记录loss\n",
        "        self.train_losses = []\n",
        "        # 记录test上的准确率\n",
        "        self.test_acc = []\n",
        "\n",
        "    def _train_one_epoch(self, epoch):\n",
        "        train_loss = 0.0\n",
        "        for batch_idx, batch in enumerate(self.train_loader):\n",
        "            # 获取batch数据\n",
        "            X = batch[0].to(device)\n",
        "            y = batch[1].to(device)  # [bs]\n",
        "\n",
        "            # 模型预测\n",
        "            output = self.model(X, X.shape[1])  # [bs, n_items]\n",
        "\n",
        "            # 反向传播，更新参数\n",
        "            loss = self.loss_func(output, y.flatten())\n",
        "            train_loss += loss.item()\n",
        "            self.optimizer.zero_grad()\n",
        "            loss.backward()\n",
        "            self.optimizer.step()\n",
        "        if epoch % 20 == 0:\n",
        "            print(f\"\\nepoch {epoch} ......\")\n",
        "            print(f\"train loss = {train_loss:.2f}\")\n",
        "        self.train_losses.append(train_loss)\n",
        "\n",
        "    def _test_one_epoch(self):\n",
        "        # 由于test_loader的返回格式和train_loader不同，所以不用loss而是用accuracy来展示test上的效果\n",
        "        acc = 0\n",
        "        batch_idx = 0\n",
        "        for batch_idx, batch in enumerate(self.test_loader):\n",
        "            X = batch[0].to(device)\n",
        "            y = batch[1].to(device)\n",
        "            pred = self.model.predict(X)\n",
        "            pred = pred.argmax(1).cpu()\n",
        "            acc += np.sum(pred.numpy() == y.cpu().numpy()) / pred.shape[0]\n",
        "        acc /= (batch_idx + 1)\n",
        "        print(f\"test accuracy = {acc:.2f}\")\n",
        "        self.test_acc.append(acc)\n",
        "\n",
        "        # 计算评价指标\n",
        "        hit_ratio, MRR = test_HR_MRR(self.model, self.test_dataset)\n",
        "        print(f\"MRR = {MRR:.4f} | HR = {hit_ratio:.4%}\")\n",
        "\n",
        "    def train(self, test=False):\n",
        "        # 记录清零\n",
        "        self.train_losses = []\n",
        "        self.test_acc = []\n",
        "        # 训练\n",
        "        self.model.train()\n",
        "        for e in range(self.n_epoch):\n",
        "            self._train_one_epoch(e)\n",
        "\n",
        "            # 在test上进行测试，包括accuracy和评价指标的计算\n",
        "            if e % 20 == 0 and test:\n",
        "                self.model.eval()\n",
        "                with torch.no_grad():\n",
        "                    self._test_one_epoch()\n",
        "                self.model.train()\n",
        "\n",
        "    def get_info(self):\n",
        "        losses = {'train_losses': self.train_losses,\n",
        "                  'test_acc': self.test_acc}\n",
        "        return losses\n",
        "\n",
        "    def plot_train_loss(self):\n",
        "        plt.figure()\n",
        "        plt.plot(self.train_losses)\n",
        "        plt.ylabel('train loss')\n",
        "        plt.xlabel('epoch')\n",
        "        plt.show()\n",
        "\n",
        "    def plot_test_acc(self):\n",
        "        plt.figure()\n",
        "        plt.plot(self.test_acc)\n",
        "        plt.ylabel('test accuracy')\n",
        "        plt.xlabel('epoch')\n",
        "        plt.show()\n",
        "\n",
        "    def plot_performance(self):\n",
        "        fig = plt.figure(figsize=(14, 5))\n",
        "\n",
        "        ax = fig.add_subplot(121)\n",
        "        ax.plot(self.train_losses)\n",
        "        ax.set_ylabel('train_loss')\n",
        "        ax.set_xlabel('epoch')\n",
        "        ax.set_title(\"train loss change with epoch\")\n",
        "\n",
        "        ax = fig.add_subplot(122)\n",
        "        ax.plot([i * 20 for i in range(1, len(self.test_acc)+1)], self.test_acc)\n",
        "        ax.set_ylabel('test_accuracy')\n",
        "        ax.set_xlabel('epoch')\n",
        "        ax.set_title(\"test accuracy change per 20 epoches\")\n",
        "\n",
        "        plt.show()"
      ]
    },
    {
      "cell_type": "markdown",
      "metadata": {
        "id": "udhIj3i1CCg8",
        "tags": []
      },
      "source": [
        "## 2. 超参数设置"
      ]
    },
    {
      "cell_type": "code",
      "execution_count": null,
      "metadata": {
        "id": "ZjLzjNbgCCg8"
      },
      "outputs": [],
      "source": [
        "num_epoch = 101\n",
        "batch_size = 256\n",
        "lr = 0.001\n",
        "embedding_size = 128\n",
        "hidden_size = 100\n",
        "item_size = len(item_set) + 1  # +1是因为做了零填充，相当于增加了一个item '0'\n",
        "output_size = item_size\n",
        "device = torch.device(\"cuda\" if torch.cuda.is_available() else \"cpu\")"
      ]
    },
    {
      "cell_type": "code",
      "execution_count": null,
      "metadata": {
        "colab": {
          "base_uri": "https://localhost:8080/"
        },
        "id": "70z8SN3mCCg9",
        "outputId": "b284cc27-c36f-4db3-8348-81914b2730eb"
      },
      "outputs": [
        {
          "output_type": "stream",
          "name": "stdout",
          "text": [
            "18055 4514\n",
            "18055 4514\n"
          ]
        }
      ],
      "source": [
        "# 数据\n",
        "print(len(train_data), len(test_data))\n",
        "\n",
        "train_dataset = MyDataset(train_data)\n",
        "test_dataset = MyDataset(test_data)\n",
        "print(len(train_dataset), len(test_dataset))\n",
        "\n",
        "train_loader = get_dataloader(batch_size, dataset=train_dataset, train=False)\n",
        "test_loader = get_dataloader(batch_size, dataset=test_dataset, train=False)"
      ]
    },
    {
      "cell_type": "markdown",
      "metadata": {
        "id": "Wcdp33MLCCg_",
        "tags": []
      },
      "source": [
        "## 3. 训练和测试"
      ]
    },
    {
      "cell_type": "code",
      "execution_count": null,
      "metadata": {
        "colab": {
          "base_uri": "https://localhost:8080/"
        },
        "id": "Jig02LDLIrsi",
        "outputId": "d8afa36e-0da7-4ca4-c0cc-2317a75e94da",
        "tags": []
      },
      "outputs": [
        {
          "output_type": "stream",
          "name": "stdout",
          "text": [
            "\n",
            "epoch 0 ......\n",
            "train loss = 643.61\n",
            "test accuracy = 0.00\n",
            "MRR = 0.0085 | HR = 3.5002%\n",
            "\n",
            "epoch 20 ......\n",
            "train loss = 174.64\n",
            "test accuracy = 0.04\n",
            "MRR = 0.0697 | HR = 15.9061%\n",
            "\n",
            "epoch 40 ......\n",
            "train loss = 69.53\n",
            "test accuracy = 0.05\n",
            "MRR = 0.0756 | HR = 15.9725%\n",
            "\n",
            "epoch 60 ......\n",
            "train loss = 45.37\n",
            "test accuracy = 0.05\n",
            "MRR = 0.0748 | HR = 15.6845%\n",
            "\n",
            "epoch 80 ......\n",
            "train loss = 36.69\n",
            "test accuracy = 0.05\n",
            "MRR = 0.0730 | HR = 15.0864%\n",
            "\n",
            "epoch 100 ......\n",
            "train loss = 30.73\n",
            "test accuracy = 0.05\n",
            "MRR = 0.0733 | HR = 15.0421%\n"
          ]
        }
      ],
      "source": [
        "model1 = NARM(item_size, output_size, embedding_size, hidden_size).to(device)\n",
        "\n",
        "train1 = ModelTrain(model=model1,\n",
        "                    dataset=(train_dataset, test_dataset),\n",
        "                    train_loader=train_loader,\n",
        "                    test_loader=test_loader,\n",
        "                    optimizer=torch.optim.Adam(model1.parameters(), lr=lr),\n",
        "                    loss_func=nn.CrossEntropyLoss(),\n",
        "                    n_epoch=num_epoch)\n",
        "\n",
        "train1.train(test=True)"
      ]
    },
    {
      "cell_type": "code",
      "execution_count": null,
      "metadata": {
        "colab": {
          "base_uri": "https://localhost:8080/",
          "height": 350
        },
        "id": "WZ39H_mFJEFJ",
        "outputId": "21035322-53d1-4919-c97f-ea49132192c5"
      },
      "outputs": [
        {
          "output_type": "display_data",
          "data": {
            "text/plain": [
              "<Figure size 1008x360 with 2 Axes>"
            ],
            "image/png": "[encoded data removed]"
          },
          "metadata": {
            "needs_background": "light"
          }
        }
      ],
      "source": [
        "train1.plot_performance()"
      ]
    },
    {
      "cell_type": "code",
      "execution_count": null,
      "metadata": {
        "id": "uY_sjiNxM75Q"
      },
      "outputs": [],
      "source": [
        ""
      ]
    }
  ],
  "metadata": {
    "accelerator": "GPU",
    "colab": {
      "collapsed_sections": [
        "8V6WOQ3KCCgq",
        "CuOkFVnuCCgr",
        "ddeLvaPoCCgy",
        "LTVEehi6CCg2",
        "J5qjd6TLCCg5",
        "udhIj3i1CCg8",
        "OnxsAZySIrKR",
        "XCqrMSC6IMki",
        "BMOEKZNpEtqW",
        "xrGrBmdGL964",
        "j9ohz24FhSEA",
        "RXqk-tdWM2sN"
      ],
      "name": "2 NARM.ipynb",
      "provenance": []
    },
    "interpreter": {
      "hash": "6722e1c430aa84dda42c1f3bd57fd26c2bbb20190f4c23f82220d33936873c2e"
    },
    "kernelspec": {
      "display_name": "Python 3",
      "name": "python3"
    },
    "language_info": {
      "name": "python"
    },
    "toc-autonumbering": false,
    "toc-showmarkdowntxt": false
  },
  "nbformat": 4,
  "nbformat_minor": 0
}