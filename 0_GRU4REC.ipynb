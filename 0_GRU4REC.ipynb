{
  "cells": [
    {
      "cell_type": "code",
      "execution_count": 28,
      "metadata": {
        "id": "TpI_-XulCCgJ"
      },
      "outputs": [],
      "source": [
        "import numpy as np\n",
        "import torch\n",
        "import torch.nn as nn\n",
        "from torch.nn.init import xavier_uniform_, xavier_normal_\n",
        "import matplotlib.pyplot as plt\n",
        "\n",
        "from process_data import data, train_data, test_data, item_set\n",
        "from process_data import TrainDataset, MyDataset, get_dataloader\n",
        "\n",
        "\n",
        "import warnings\n",
        "warnings.filterwarnings(\"ignore\")"
      ]
    },
    {
      "cell_type": "code",
      "source": [
        "from google.colab import drive\n",
        "drive.mount('/content/drive')"
      ],
      "metadata": {
        "colab": {
          "base_uri": "https://localhost:8080/"
        },
        "id": "aw8vjCg0t4ol",
        "outputId": "791b29a6-bb83-44b1-beb3-c6239bedeb8d"
      },
      "execution_count": 2,
      "outputs": [
        {
          "output_type": "stream",
          "name": "stdout",
          "text": [
            "Mounted at /content/drive\n"
          ]
        }
      ]
    },
    {
      "cell_type": "markdown",
      "metadata": {
        "id": "8V6WOQ3KCCgq",
        "tags": []
      },
      "source": [
        "# 一、GRU4REC搭建"
      ]
    },
    {
      "cell_type": "markdown",
      "metadata": {
        "id": "pCXfuhpMCCgy",
        "tags": []
      },
      "source": [
        "<img src=\"GRU4FECarchitecture.png\" style=\"width:500px;height:300px;\">"
      ]
    },
    {
      "cell_type": "markdown",
      "metadata": {
        "id": "8MQ-f_T1CCgz"
      },
      "source": [
        "`nn.GRU`  # batch_first=True\n",
        "* inputs:\n",
        "    * input: `(batch_size, seq_len, input_size)`\n",
        "    * h_0: `(n_layers, batch_size, hidden_size)`, the initial hidden state, defaults to zeros\n",
        "* outputs:\n",
        "    * output: `(batch_size, seq_len, output_size)`, containing the output features (h_t) from the last layer of the GRU, for each t\n",
        "    * h_n: `(n_layers, batch_size, hidden_size)`, containing the final hidden state for the input sequence."
      ]
    },
    {
      "cell_type": "code",
      "execution_count": 4,
      "metadata": {
        "id": "nahA_rlSCCg0"
      },
      "outputs": [],
      "source": [
        "class GRU4REC(nn.Module):\n",
        "    def __init__(self, input_size, output_size, embedding_size, hidden_size, n_layers=1, dp=0.3):\n",
        "        \"\"\"\n",
        "        input_size = output_size = num_item\n",
        "        \"\"\"\n",
        "        super(GRU4REC, self).__init__()\n",
        "\n",
        "        # === 定义参数 ===\n",
        "        self.input_size = input_size\n",
        "        self.output_size = output_size\n",
        "        self.embedding_size = embedding_size\n",
        "        self.dropout = dp\n",
        "        self.hidden_size = hidden_size\n",
        "        self.n_layers = n_layers\n",
        "\n",
        "        # === 定义layers ===\n",
        "        # 1. embedding layer\n",
        "        self.item_embedding = nn.Embedding(self.input_size, self.embedding_size, padding_idx=0)\n",
        "        self.emb_dropout = nn.Dropout(self.dropout)\n",
        "        # 2. GRU layer\n",
        "        self.gru = nn.GRU(input_size=self.embedding_size,\n",
        "                          hidden_size=self.hidden_size,\n",
        "                          num_layers=self.n_layers,\n",
        "                          bias=False,\n",
        "                          batch_first=True)\n",
        "        # 3. feedforward layers\n",
        "        self.feedforward = nn.Linear(self.hidden_size, self.embedding_size)\n",
        "\n",
        "        # === 初始化参数 ===\n",
        "        xavier_normal_(self.item_embedding.weight)\n",
        "        xavier_uniform_(self.gru.weight_hh_l0)\n",
        "        xavier_uniform_(self.gru.weight_ih_l0)\n",
        "\n",
        "    def forward(self, item_seq, item_seq_len):\n",
        "        \"\"\"\n",
        "        Params:\n",
        "            item_seq, shape = (batch_size, seq_len)\n",
        "        Return:\n",
        "            scores, shape = (batch_size*seq_len, output_size)\n",
        "        \"\"\"\n",
        "\n",
        "        # embedding layer\n",
        "        seq_embedding = self.item_embedding(item_seq)\n",
        "        gru_input = self.emb_dropout(seq_embedding)\n",
        "\n",
        "        # GRU layer\n",
        "        gru_output, _ = self.gru(gru_input)\n",
        "\n",
        "        # feed forward layer\n",
        "        output = self.feedforward(gru_output)\n",
        "\n",
        "        # 映射回item_size空间，最后一个维度的embedding_size -> input_size = item_size\n",
        "        output = output @ self.item_embedding.weight.T\n",
        "\n",
        "        return output.reshape(-1, output.shape[-1])\n",
        "\n",
        "    def predict(self, item_seq):\n",
        "        \"\"\"\n",
        "        Params:\n",
        "            item_seq, shape = (batch_size, seq_len)\n",
        "        Return:\n",
        "            final_score, shape = (batch_size, item_size)\n",
        "        \"\"\"\n",
        "        self.eval()\n",
        "        with torch.no_grad():\n",
        "            seq_embedding = self.item_embedding(item_seq)  # [bs, seq_len, embedding_size]\n",
        "            gru_output, _ = self.gru(seq_embedding)  # [bs, seq_len, hidden_size]\n",
        "            gru_output = self.feedforward(gru_output)  # [bs, seq_len, embedding_size]\n",
        "            scores = gru_output @ self.item_embedding.weight.T  # [bs, seq_len, item_size]\n",
        "        self.train()\n",
        "        final_score = scores[:, -1, :]  # 取最后一个timestep，[bs, item_size]\n",
        "        return final_score"
      ]
    },
    {
      "cell_type": "markdown",
      "metadata": {
        "id": "O8v4BfVKCCg2",
        "tags": []
      },
      "source": [
        "# 二、模型训练"
      ]
    },
    {
      "cell_type": "markdown",
      "metadata": {
        "jp-MarkdownHeadingCollapsed": true,
        "tags": [],
        "id": "Ws-tVqQwcUBM"
      },
      "source": [
        "## 评价指标"
      ]
    },
    {
      "cell_type": "code",
      "execution_count": 5,
      "metadata": {
        "tags": [],
        "id": "jk5eGHz9cUBN"
      },
      "outputs": [],
      "source": [
        "def test_HR_MRR(model, test_dataset, k=20):\n",
        "    count = 0\n",
        "    score = 0\n",
        "    for X, y in test_dataset:\n",
        "        X = torch.tensor(X, dtype=torch.long).to(device)\n",
        "        X = X.unsqueeze(0)  # [1, seq_len]\n",
        "\n",
        "        # 预测\n",
        "        output = model.predict(X).cpu().detach()  # [1, item_size]\n",
        "        output = output.squeeze(0)\n",
        "        top_k = output.topk(k).indices.numpy()\n",
        "\n",
        "        if y in top_k:\n",
        "            # HR\n",
        "            count += 1\n",
        "            # MRR\n",
        "            rank_y = np.where(top_k == y)[0][0] + 1\n",
        "            score += 1 / rank_y\n",
        "\n",
        "    HR = count / len(test_dataset)\n",
        "    MRR = score / len(test_dataset)\n",
        "\n",
        "    return HR, MRR"
      ]
    },
    {
      "cell_type": "markdown",
      "metadata": {
        "id": "LTVEehi6CCg2",
        "tags": []
      },
      "source": [
        "## 1. 模型训练设置\n",
        "\n",
        "定义了GRU4REC的`ModelTrain`类，打包训练过程"
      ]
    },
    {
      "cell_type": "code",
      "execution_count": 11,
      "metadata": {
        "id": "zJJdTVh4CCg6",
        "tags": []
      },
      "outputs": [],
      "source": [
        "class ModelTrain:\n",
        "    def __init__(self, model, dataset, train_loader, test_loader, optimizer, loss_func, n_epoch):\n",
        "        self.model = model\n",
        "        self.train_dataset = dataset[0]\n",
        "        self.test_dataset = dataset[1]\n",
        "        self.train_loader = train_loader\n",
        "        self.test_loader = test_loader\n",
        "        self.optimizer = optimizer\n",
        "        self.loss_func = loss_func\n",
        "        self.n_epoch = n_epoch\n",
        "\n",
        "        # 记录loss\n",
        "        self.train_losses = []\n",
        "        # 记录test上的准确率\n",
        "        self.test_acc = []\n",
        "\n",
        "    def _train_one_epoch(self, epoch):\n",
        "        train_loss = 0.0\n",
        "        for batch_idx, batch in enumerate(self.train_loader):\n",
        "            # 获取batch数据\n",
        "            X = batch[0].to(device)\n",
        "            y = batch[1].to(device)  # (bs, seq_len)\n",
        "\n",
        "            # 模型预测\n",
        "            output = self.model(X, X.shape[1])  # (bs*seq_len, item_size)\n",
        "\n",
        "            # 反向传播，更新参数\n",
        "            loss = self.loss_func(output, y.flatten())\n",
        "            train_loss += loss.item()\n",
        "            self.optimizer.zero_grad()\n",
        "            loss.backward()\n",
        "            self.optimizer.step()\n",
        "        if epoch % 20 == 0:\n",
        "            print(f\"\\nepoch {epoch} ......\")\n",
        "            print(f\"train loss = {train_loss:.2f}\")\n",
        "        self.train_losses.append(train_loss)\n",
        "\n",
        "    def _test_one_epoch(self):\n",
        "        # 由于test_loader的返回格式和train_loader不同，所以不用loss而是用accuracy来展示test上的效果\n",
        "        acc = 0\n",
        "        batch_idx = 0\n",
        "        for batch_idx, batch in enumerate(self.test_loader):\n",
        "            X = batch[0].to(device)\n",
        "            y = batch[1].to(device)\n",
        "            pred = self.model.predict(X)\n",
        "            pred = pred.argmax(1).cpu()\n",
        "            acc += np.sum(pred.numpy() == y.cpu().numpy()) / pred.shape[0]\n",
        "        acc /= (batch_idx + 1)\n",
        "        print(f\"test accuracy = {acc:.2f}\")\n",
        "        self.test_acc.append(acc)\n",
        "\n",
        "        # 计算评价指标\n",
        "        hit_ratio, MRR = test_HR_MRR(self.model, self.test_dataset)\n",
        "        hit_ratio2, MRR2 = test_HR_MRR(self.model, self.test_dataset, k=5)\n",
        "        print(f\"MRR@20 = {MRR:.4f} | HR@20 = {hit_ratio:.4%}\")\n",
        "        print(f\"MRR@5 = {MRR2:.4f} | HR@5 = {hit_ratio2:.4%}\")\n",
        "\n",
        "    def train(self, test=False):\n",
        "        # 记录清零\n",
        "        self.train_losses = []\n",
        "        self.test_acc = []\n",
        "        # 训练\n",
        "        self.model.train()\n",
        "        for e in range(self.n_epoch):\n",
        "            self._train_one_epoch(e)\n",
        "\n",
        "            # 在test上进行测试，包括accuracy和评价指标的计算\n",
        "            if e % 20 == 0 and test:\n",
        "                self.model.eval()\n",
        "                with torch.no_grad():\n",
        "                    self._test_one_epoch()\n",
        "                self.model.train()\n",
        "\n",
        "    def get_info(self):\n",
        "        losses = {'train_losses': self.train_losses,\n",
        "                  'test_acc': self.test_acc}\n",
        "        return losses\n",
        "\n",
        "    def plot_train_loss(self):\n",
        "        plt.figure()\n",
        "        plt.plot(self.train_losses)\n",
        "        plt.ylabel('train loss')\n",
        "        plt.xlabel('epoch')\n",
        "        plt.show()\n",
        "\n",
        "    def plot_test_acc(self):\n",
        "        plt.figure()\n",
        "        plt.plot(self.test_acc)\n",
        "        plt.ylabel('test accuracy')\n",
        "        plt.xlabel('epoch')\n",
        "        plt.show()\n",
        "\n",
        "    def plot_performance(self):\n",
        "        fig = plt.figure(figsize=(14, 5))\n",
        "\n",
        "        ax = fig.add_subplot(121)\n",
        "        ax.plot(self.train_losses)\n",
        "        ax.set_ylabel('train_loss')\n",
        "        ax.set_xlabel('epoch')\n",
        "        ax.set_title(\"train loss change with epoch\")\n",
        "\n",
        "        ax = fig.add_subplot(122)\n",
        "        ax.plot([i * 20 for i in range(1, len(self.test_acc)+1)], self.test_acc)\n",
        "        ax.set_ylabel('test_accuracy')\n",
        "        ax.set_xlabel('epoch')\n",
        "        ax.set_title(\"test accuracy change per 20 epoches\")\n",
        "\n",
        "        plt.show()"
      ]
    },
    {
      "cell_type": "markdown",
      "metadata": {
        "id": "udhIj3i1CCg8",
        "jp-MarkdownHeadingCollapsed": true,
        "tags": []
      },
      "source": [
        "## 2. 超参数设置"
      ]
    },
    {
      "cell_type": "code",
      "execution_count": 12,
      "metadata": {
        "id": "ZjLzjNbgCCg8"
      },
      "outputs": [],
      "source": [
        "num_epoch = 200\n",
        "batch_size = 128\n",
        "lr = 0.01\n",
        "droupout = 0.3\n",
        "embedding_size = 128\n",
        "hidden_size = 128\n",
        "item_size = len(item_set) + 1  # +1是因为做了零填充，相当于增加了一个item '0'\n",
        "output_size = item_size\n",
        "device = torch.device(\"cuda\" if torch.cuda.is_available() else \"cpu\")"
      ]
    },
    {
      "cell_type": "code",
      "execution_count": 13,
      "metadata": {
        "colab": {
          "base_uri": "https://localhost:8080/"
        },
        "id": "70z8SN3mCCg9",
        "outputId": "d3909a07-bdc8-4208-c5a1-7602d4aba48b"
      },
      "outputs": [
        {
          "output_type": "stream",
          "name": "stdout",
          "text": [
            "18055 4514\n",
            "18055 4514\n"
          ]
        }
      ],
      "source": [
        "# 数据\n",
        "print(len(train_data), len(test_data))\n",
        "\n",
        "train_dataset = TrainDataset(train_data)\n",
        "test_dataset = MyDataset(test_data)\n",
        "print(len(train_dataset), len(test_dataset))\n",
        "\n",
        "train_loader = get_dataloader(batch_size, dataset=train_dataset, train=True)\n",
        "test_loader = get_dataloader(batch_size, dataset=test_dataset, train=False)"
      ]
    },
    {
      "cell_type": "markdown",
      "metadata": {
        "id": "Wcdp33MLCCg_",
        "tags": []
      },
      "source": [
        "## 3. 训练和测试"
      ]
    },
    {
      "cell_type": "markdown",
      "metadata": {
        "id": "OnxsAZySIrKR",
        "jp-MarkdownHeadingCollapsed": true,
        "tags": []
      },
      "source": [
        "#### lr = 0.01, dropout = 0.3, batch_size = 128"
      ]
    },
    {
      "cell_type": "code",
      "execution_count": 14,
      "metadata": {
        "colab": {
          "base_uri": "https://localhost:8080/"
        },
        "id": "Jig02LDLIrsi",
        "outputId": "2c09c349-0d2c-498b-a207-ea360f2118f1"
      },
      "outputs": [
        {
          "output_type": "stream",
          "name": "stdout",
          "text": [
            "\n",
            "epoch 0 ......\n",
            "train loss = 1188.58\n",
            "test accuracy = 0.01\n",
            "MRR@20 = 0.0319 | HR@20 = 11.2317%\n",
            "MRR@5 = 0.0259 | HR@5 = 4.7851%\n",
            "\n",
            "epoch 20 ......\n",
            "train loss = 295.88\n",
            "test accuracy = 0.26\n",
            "MRR@20 = 0.3347 | HR@20 = 49.1360%\n",
            "MRR@5 = 0.3258 | HR@5 = 40.3633%\n",
            "\n",
            "epoch 40 ......\n",
            "train loss = 265.31\n",
            "test accuracy = 0.30\n",
            "MRR@20 = 0.3711 | HR@20 = 50.4652%\n",
            "MRR@5 = 0.3640 | HR@5 = 43.6863%\n",
            "\n",
            "epoch 60 ......\n",
            "train loss = 258.88\n",
            "test accuracy = 0.31\n",
            "MRR@20 = 0.3791 | HR@20 = 50.2658%\n",
            "MRR@5 = 0.3733 | HR@5 = 44.7718%\n",
            "\n",
            "epoch 80 ......\n",
            "train loss = 259.82\n",
            "test accuracy = 0.31\n",
            "MRR@20 = 0.3783 | HR@20 = 50.2437%\n",
            "MRR@5 = 0.3713 | HR@5 = 43.8192%\n",
            "\n",
            "epoch 100 ......\n",
            "train loss = 263.69\n",
            "test accuracy = 0.31\n",
            "MRR@20 = 0.3718 | HR@20 = 49.2468%\n",
            "MRR@5 = 0.3657 | HR@5 = 43.5091%\n",
            "\n",
            "epoch 120 ......\n",
            "train loss = 256.86\n",
            "test accuracy = 0.31\n",
            "MRR@20 = 0.3759 | HR@20 = 49.9778%\n",
            "MRR@5 = 0.3695 | HR@5 = 43.7971%\n",
            "\n",
            "epoch 140 ......\n",
            "train loss = 256.14\n",
            "test accuracy = 0.31\n",
            "MRR@20 = 0.3783 | HR@20 = 50.0886%\n",
            "MRR@5 = 0.3716 | HR@5 = 43.8635%\n",
            "\n",
            "epoch 160 ......\n",
            "train loss = 256.43\n",
            "test accuracy = 0.31\n",
            "MRR@20 = 0.3757 | HR@20 = 49.7785%\n",
            "MRR@5 = 0.3696 | HR@5 = 43.8857%\n",
            "\n",
            "epoch 180 ......\n",
            "train loss = 258.92\n",
            "test accuracy = 0.31\n",
            "MRR@20 = 0.3786 | HR@20 = 49.9335%\n",
            "MRR@5 = 0.3721 | HR@5 = 43.8192%\n"
          ]
        }
      ],
      "source": [
        "model1 = GRU4REC(item_size, output_size, embedding_size, hidden_size, dp=0.3).to(device)\n",
        "\n",
        "train_CE1 = ModelTrain(model=model1,\n",
        "                       dataset=(train_dataset, test_dataset),\n",
        "                       train_loader=train_loader,\n",
        "                       test_loader=test_loader,\n",
        "                       optimizer=torch.optim.Adam(model1.parameters(), lr=0.01),\n",
        "                       loss_func=nn.CrossEntropyLoss(),\n",
        "                       n_epoch=num_epoch)\n",
        "\n",
        "train_CE1.train(test=True)"
      ]
    },
    {
      "cell_type": "code",
      "execution_count": null,
      "metadata": {
        "id": "WZ39H_mFJEFJ"
      },
      "outputs": [],
      "source": [
        "train_CE1.plot_performance()"
      ]
    },
    {
      "cell_type": "markdown",
      "metadata": {
        "id": "XCqrMSC6IMki",
        "jp-MarkdownHeadingCollapsed": true,
        "tags": []
      },
      "source": [
        "#### lr = 0.01, dropout = 0, batch_size = 128"
      ]
    },
    {
      "cell_type": "code",
      "execution_count": 15,
      "metadata": {
        "colab": {
          "base_uri": "https://localhost:8080/"
        },
        "id": "viP80XoRCChA",
        "outputId": "afb80538-39d4-4fdc-82ad-8473b7a93ca1",
        "tags": []
      },
      "outputs": [
        {
          "output_type": "stream",
          "name": "stdout",
          "text": [
            "\n",
            "epoch 0 ......\n",
            "train loss = 1186.23\n",
            "test accuracy = 0.02\n",
            "MRR@20 = 0.0370 | HR@20 = 12.3615%\n",
            "MRR@5 = 0.0307 | HR@5 = 5.6048%\n",
            "\n",
            "epoch 20 ......\n",
            "train loss = 178.17\n",
            "test accuracy = 0.32\n",
            "MRR@20 = 0.3829 | HR@20 = 49.3354%\n",
            "MRR@5 = 0.3773 | HR@5 = 44.1737%\n",
            "\n",
            "epoch 40 ......\n",
            "train loss = 161.16\n",
            "test accuracy = 0.35\n",
            "MRR@20 = 0.4096 | HR@20 = 49.4019%\n",
            "MRR@5 = 0.4059 | HR@5 = 45.8795%\n",
            "\n",
            "epoch 60 ......\n",
            "train loss = 181.66\n",
            "test accuracy = 0.33\n",
            "MRR@20 = 0.3867 | HR@20 = 49.0253%\n",
            "MRR@5 = 0.3817 | HR@5 = 44.4617%\n",
            "\n",
            "epoch 80 ......\n",
            "train loss = 374.21\n",
            "test accuracy = 0.23\n",
            "MRR@20 = 0.3035 | HR@20 = 45.9016%\n",
            "MRR@5 = 0.2950 | HR@5 = 37.7049%\n",
            "\n",
            "epoch 100 ......\n",
            "train loss = 325.25\n",
            "test accuracy = 0.27\n",
            "MRR@20 = 0.3411 | HR@20 = 48.2277%\n",
            "MRR@5 = 0.3332 | HR@5 = 41.0058%\n",
            "\n",
            "epoch 120 ......\n",
            "train loss = 159.55\n",
            "test accuracy = 0.37\n",
            "MRR@20 = 0.4217 | HR@20 = 49.6234%\n",
            "MRR@5 = 0.4175 | HR@5 = 45.9016%\n",
            "\n",
            "epoch 140 ......\n",
            "train loss = 141.00\n",
            "test accuracy = 0.39\n",
            "MRR@20 = 0.4361 | HR@20 = 49.6677%\n",
            "MRR@5 = 0.4332 | HR@5 = 46.9428%\n",
            "\n",
            "epoch 160 ......\n",
            "train loss = 142.85\n",
            "test accuracy = 0.38\n",
            "MRR@20 = 0.4290 | HR@20 = 49.6012%\n",
            "MRR@5 = 0.4260 | HR@5 = 46.6327%\n",
            "\n",
            "epoch 180 ......\n",
            "train loss = 141.90\n",
            "test accuracy = 0.38\n",
            "MRR@20 = 0.4322 | HR@20 = 49.9557%\n",
            "MRR@5 = 0.4290 | HR@5 = 46.7435%\n"
          ]
        }
      ],
      "source": [
        "model2 = GRU4REC(item_size, output_size, embedding_size, hidden_size, dp=0).to(device)\n",
        "\n",
        "train_CE2 = ModelTrain(model=model2,\n",
        "                       dataset=(train_dataset, test_dataset),\n",
        "                       train_loader=train_loader,\n",
        "                       test_loader=test_loader,\n",
        "                       optimizer=torch.optim.Adam(model2.parameters(), lr=0.01),\n",
        "                       loss_func=nn.CrossEntropyLoss(),\n",
        "                       n_epoch=num_epoch)\n",
        "\n",
        "train_CE2.train(test=True)"
      ]
    },
    {
      "cell_type": "code",
      "execution_count": 16,
      "metadata": {
        "colab": {
          "base_uri": "https://localhost:8080/",
          "height": 350
        },
        "id": "PNi8eYoJCChA",
        "jupyter": {
          "outputs_hidden": false
        },
        "outputId": "cc3511c8-6325-45fa-92e5-b8f2af8226ec",
        "pycharm": {
          "name": "#%%\n"
        },
        "tags": []
      },
      "outputs": [
        {
          "output_type": "display_data",
          "data": {
            "text/plain": [
              "<Figure size 1008x360 with 2 Axes>"
            ],
            "image/png": "[encoded data removed]"
          },
          "metadata": {
            "needs_background": "light"
          }
        }
      ],
      "source": [
        "train_CE2.plot_performance()"
      ]
    },
    {
      "cell_type": "markdown",
      "metadata": {
        "id": "BMOEKZNpEtqW",
        "jp-MarkdownHeadingCollapsed": true,
        "tags": []
      },
      "source": [
        "#### lr = 0.05, dropout = 0.3, batch_size = 128"
      ]
    },
    {
      "cell_type": "code",
      "execution_count": 17,
      "metadata": {
        "colab": {
          "base_uri": "https://localhost:8080/"
        },
        "id": "SCP49De0EtJe",
        "outputId": "14d49242-26ab-4de5-fbf9-97e4fc73a421"
      },
      "outputs": [
        {
          "output_type": "stream",
          "name": "stdout",
          "text": [
            "\n",
            "epoch 0 ......\n",
            "train loss = 1320.08\n",
            "test accuracy = 0.01\n",
            "MRR@20 = 0.0202 | HR@20 = 6.8232%\n",
            "MRR@5 = 0.0169 | HR@5 = 3.3230%\n",
            "\n",
            "epoch 20 ......\n",
            "train loss = 2245.98\n",
            "test accuracy = 0.00\n",
            "MRR@20 = 0.0066 | HR@20 = 3.6110%\n",
            "MRR@5 = 0.0041 | HR@5 = 0.7089%\n",
            "\n",
            "epoch 40 ......\n",
            "train loss = 2799.37\n",
            "test accuracy = 0.00\n",
            "MRR@20 = 0.0085 | HR@20 = 2.6362%\n",
            "MRR@5 = 0.0073 | HR@5 = 1.2627%\n",
            "\n",
            "epoch 60 ......\n",
            "train loss = 2742.38\n",
            "test accuracy = 0.00\n",
            "MRR@20 = 0.0091 | HR@20 = 3.6774%\n",
            "MRR@5 = 0.0072 | HR@5 = 1.2849%\n",
            "\n",
            "epoch 80 ......\n",
            "train loss = 2846.12\n",
            "test accuracy = 0.00\n",
            "MRR@20 = 0.0103 | HR@20 = 4.0762%\n",
            "MRR@5 = 0.0080 | HR@5 = 1.5507%\n",
            "\n",
            "epoch 100 ......\n",
            "train loss = 2826.37\n",
            "test accuracy = 0.00\n",
            "MRR@20 = 0.0107 | HR@20 = 4.4750%\n",
            "MRR@5 = 0.0085 | HR@5 = 1.9495%\n",
            "\n",
            "epoch 120 ......\n",
            "train loss = 2917.91\n",
            "test accuracy = 0.00\n",
            "MRR@20 = 0.0087 | HR@20 = 4.2091%\n",
            "MRR@5 = 0.0059 | HR@5 = 0.9969%\n",
            "\n",
            "epoch 140 ......\n",
            "train loss = 2945.85\n",
            "test accuracy = 0.00\n",
            "MRR@20 = 0.0113 | HR@20 = 3.9211%\n",
            "MRR@5 = 0.0093 | HR@5 = 1.9052%\n",
            "\n",
            "epoch 160 ......\n",
            "train loss = 3078.80\n",
            "test accuracy = 0.01\n",
            "MRR@20 = 0.0119 | HR@20 = 3.9876%\n",
            "MRR@5 = 0.0095 | HR@5 = 1.5729%\n",
            "\n",
            "epoch 180 ......\n",
            "train loss = 3024.57\n",
            "test accuracy = 0.00\n",
            "MRR@20 = 0.0093 | HR@20 = 3.2565%\n",
            "MRR@5 = 0.0077 | HR@5 = 1.4843%\n"
          ]
        }
      ],
      "source": [
        "model3 = GRU4REC(item_size, output_size, embedding_size, hidden_size, dp=0.3).to(device)\n",
        "\n",
        "train_CE3 = ModelTrain(model=model3,\n",
        "                       dataset=(train_dataset, test_dataset),\n",
        "                       train_loader=train_loader,\n",
        "                       test_loader=test_loader,\n",
        "                       optimizer=torch.optim.Adam(model3.parameters(), lr=0.05),\n",
        "                       loss_func=nn.CrossEntropyLoss(),\n",
        "                       n_epoch=num_epoch)\n",
        "\n",
        "train_CE3.train(test=True)"
      ]
    },
    {
      "cell_type": "code",
      "execution_count": 18,
      "metadata": {
        "colab": {
          "base_uri": "https://localhost:8080/",
          "height": 350
        },
        "id": "J_TDr0K1E5Ug",
        "outputId": "f20e267b-075e-4417-cd34-0d9eb720d563"
      },
      "outputs": [
        {
          "output_type": "display_data",
          "data": {
            "text/plain": [
              "<Figure size 1008x360 with 2 Axes>"
            ],
            "image/png": "[encoded data removed]"
          },
          "metadata": {
            "needs_background": "light"
          }
        }
      ],
      "source": [
        "train_CE3.plot_performance()"
      ]
    },
    {
      "cell_type": "markdown",
      "metadata": {
        "id": "xrGrBmdGL964",
        "jp-MarkdownHeadingCollapsed": true,
        "tags": []
      },
      "source": [
        "#### lr = 0.01, dropout = 0.3, batch_size = 256"
      ]
    },
    {
      "cell_type": "code",
      "execution_count": 19,
      "metadata": {
        "colab": {
          "base_uri": "https://localhost:8080/"
        },
        "id": "2oo6ZcblL96_",
        "outputId": "eeba8f15-80df-4d77-a53a-5b1811b44caf"
      },
      "outputs": [
        {
          "output_type": "stream",
          "name": "stdout",
          "text": [
            "\n",
            "epoch 0 ......\n",
            "train loss = 604.61\n",
            "test accuracy = 0.01\n",
            "MRR@20 = 0.0255 | HR@20 = 8.2853%\n",
            "MRR@5 = 0.0215 | HR@5 = 3.9211%\n",
            "\n",
            "epoch 20 ......\n",
            "train loss = 112.90\n",
            "test accuracy = 0.32\n",
            "MRR@20 = 0.4008 | HR@20 = 50.7975%\n",
            "MRR@5 = 0.3952 | HR@5 = 45.4143%\n",
            "\n",
            "epoch 40 ......\n",
            "train loss = 102.94\n",
            "test accuracy = 0.34\n",
            "MRR@20 = 0.4190 | HR@20 = 50.8418%\n",
            "MRR@5 = 0.4145 | HR@5 = 46.6549%\n",
            "\n",
            "epoch 60 ......\n",
            "train loss = 102.01\n",
            "test accuracy = 0.34\n",
            "MRR@20 = 0.4265 | HR@20 = 50.8418%\n",
            "MRR@5 = 0.4222 | HR@5 = 46.9650%\n",
            "\n",
            "epoch 80 ......\n",
            "train loss = 102.40\n",
            "test accuracy = 0.34\n",
            "MRR@20 = 0.4240 | HR@20 = 51.2184%\n",
            "MRR@5 = 0.4192 | HR@5 = 46.8099%\n",
            "\n",
            "epoch 100 ......\n",
            "train loss = 104.35\n",
            "test accuracy = 0.34\n",
            "MRR@20 = 0.4224 | HR@20 = 51.2627%\n",
            "MRR@5 = 0.4184 | HR@5 = 47.3195%\n",
            "\n",
            "epoch 120 ......\n",
            "train loss = 103.47\n",
            "test accuracy = 0.34\n",
            "MRR@20 = 0.4236 | HR@20 = 51.2184%\n",
            "MRR@5 = 0.4194 | HR@5 = 47.1644%\n",
            "\n",
            "epoch 140 ......\n",
            "train loss = 105.63\n",
            "test accuracy = 0.34\n",
            "MRR@20 = 0.4197 | HR@20 = 50.7532%\n",
            "MRR@5 = 0.4154 | HR@5 = 46.5884%\n",
            "\n",
            "epoch 160 ......\n",
            "train loss = 108.15\n",
            "test accuracy = 0.34\n",
            "MRR@20 = 0.4169 | HR@20 = 50.6424%\n",
            "MRR@5 = 0.4125 | HR@5 = 46.4998%\n",
            "\n",
            "epoch 180 ......\n",
            "train loss = 109.78\n",
            "test accuracy = 0.34\n",
            "MRR@20 = 0.4160 | HR@20 = 50.8640%\n",
            "MRR@5 = 0.4114 | HR@5 = 46.4333%\n"
          ]
        }
      ],
      "source": [
        "train_loader2 = get_dataloader(256, dataset=train_dataset, train=True)\n",
        "test_loader2 = get_dataloader(256, dataset=test_dataset, train=False)\n",
        "\n",
        "model4 = GRU4REC(item_size, output_size, embedding_size, hidden_size, dp=0.3).to(device)\n",
        "\n",
        "train_CE4 = ModelTrain(model=model4,\n",
        "                       dataset=(train_dataset, test_dataset),\n",
        "                       train_loader=train_loader2,\n",
        "                       test_loader=test_loader2,\n",
        "                       optimizer=torch.optim.Adam(model4.parameters(), lr=0.01),\n",
        "                       loss_func=nn.CrossEntropyLoss(),\n",
        "                       n_epoch=num_epoch)\n",
        "\n",
        "train_CE4.train(test=True)"
      ]
    },
    {
      "cell_type": "code",
      "execution_count": 20,
      "metadata": {
        "colab": {
          "base_uri": "https://localhost:8080/",
          "height": 0
        },
        "id": "xJ-ugkdeL96_",
        "outputId": "159e0fd4-843b-48d7-ab36-31e273fca281"
      },
      "outputs": [
        {
          "output_type": "display_data",
          "data": {
            "text/plain": [
              "<Figure size 1008x360 with 2 Axes>"
            ],
            "image/png": "[encoded data removed]"
          },
          "metadata": {
            "needs_background": "light"
          }
        }
      ],
      "source": [
        "train_CE4.plot_performance()"
      ]
    },
    {
      "cell_type": "markdown",
      "metadata": {
        "id": "j9ohz24FhSEA",
        "tags": []
      },
      "source": [
        "#### lr = 0.01, dropout = 0, batch_size = 256"
      ]
    },
    {
      "cell_type": "code",
      "execution_count": 29,
      "metadata": {
        "colab": {
          "base_uri": "https://localhost:8080/"
        },
        "id": "KbUKDNlwhSEJ",
        "outputId": "840810f0-188b-41fe-be8f-5ebd0cea4277"
      },
      "outputs": [
        {
          "output_type": "stream",
          "name": "stdout",
          "text": [
            "\n",
            "epoch 0 ......\n",
            "train loss = 605.41\n",
            "test accuracy = 0.01\n",
            "MRR@20 = 0.0226 | HR@20 = 8.7727%\n",
            "MRR@5 = 0.0180 | HR@5 = 3.5888%\n",
            "\n",
            "epoch 20 ......\n",
            "train loss = 63.21\n",
            "test accuracy = 0.38\n",
            "MRR@20 = 0.4503 | HR@20 = 50.8418%\n",
            "MRR@5 = 0.4472 | HR@5 = 47.7847%\n",
            "\n",
            "epoch 40 ......\n",
            "train loss = 57.66\n",
            "test accuracy = 0.38\n",
            "MRR@20 = 0.4511 | HR@20 = 51.0412%\n",
            "MRR@5 = 0.4478 | HR@5 = 47.8511%\n",
            "\n",
            "epoch 60 ......\n",
            "train loss = 58.81\n",
            "test accuracy = 0.35\n",
            "MRR@20 = 0.4290 | HR@20 = 50.0000%\n",
            "MRR@5 = 0.4259 | HR@5 = 46.8321%\n",
            "\n",
            "epoch 80 ......\n",
            "train loss = 53.06\n",
            "test accuracy = 0.37\n",
            "MRR@20 = 0.4475 | HR@20 = 50.2880%\n",
            "MRR@5 = 0.4449 | HR@5 = 47.7182%\n",
            "\n",
            "epoch 100 ......\n",
            "train loss = 71.07\n",
            "test accuracy = 0.35\n",
            "MRR@20 = 0.4291 | HR@20 = 50.1772%\n",
            "MRR@5 = 0.4257 | HR@5 = 46.8764%\n",
            "\n",
            "epoch 120 ......\n",
            "train loss = 52.25\n",
            "test accuracy = 0.38\n",
            "MRR@20 = 0.4510 | HR@20 = 50.1329%\n",
            "MRR@5 = 0.4485 | HR@5 = 47.6961%\n",
            "\n",
            "epoch 140 ......\n",
            "train loss = 52.85\n",
            "test accuracy = 0.38\n",
            "MRR@20 = 0.4493 | HR@20 = 50.4431%\n",
            "MRR@5 = 0.4462 | HR@5 = 47.3638%\n",
            "\n",
            "epoch 160 ......\n",
            "train loss = 159.63\n",
            "test accuracy = 0.24\n",
            "MRR@20 = 0.3259 | HR@20 = 47.1422%\n",
            "MRR@5 = 0.3183 | HR@5 = 39.9867%\n",
            "\n",
            "epoch 180 ......\n",
            "train loss = 52.08\n",
            "test accuracy = 0.38\n",
            "MRR@20 = 0.4502 | HR@20 = 50.1772%\n",
            "MRR@5 = 0.4477 | HR@5 = 47.6518%\n"
          ]
        }
      ],
      "source": [
        "train_loader2 = get_dataloader(256, dataset=train_dataset, train=True)\n",
        "test_loader2 = get_dataloader(256, dataset=test_dataset, train=False)\n",
        "\n",
        "model5 = GRU4REC(item_size, output_size, embedding_size, hidden_size, dp=0).to(device)\n",
        "\n",
        "train_CE5 = ModelTrain(model=model5,\n",
        "                       dataset=(train_dataset, test_dataset),\n",
        "                       train_loader=train_loader2,\n",
        "                       test_loader=test_loader2,\n",
        "                       optimizer=torch.optim.Adam(model5.parameters(), lr=0.01),\n",
        "                       loss_func=nn.CrossEntropyLoss(),\n",
        "                       n_epoch=num_epoch)\n",
        "\n",
        "train_CE5.train(test=True)"
      ]
    },
    {
      "cell_type": "code",
      "execution_count": 30,
      "metadata": {
        "colab": {
          "base_uri": "https://localhost:8080/",
          "height": 350
        },
        "id": "kzzW21iphfFu",
        "outputId": "66276b66-031d-4c5e-f0e6-4c514cd8ce48"
      },
      "outputs": [
        {
          "output_type": "display_data",
          "data": {
            "text/plain": [
              "<Figure size 1008x360 with 2 Axes>"
            ],
            "image/png": "[encoded data removed]"
          },
          "metadata": {
            "needs_background": "light"
          }
        }
      ],
      "source": [
        "train_CE5.plot_performance()"
      ]
    },
    {
      "cell_type": "markdown",
      "metadata": {
        "id": "pI4DIJ8hHHEN",
        "tags": []
      },
      "source": [
        "# 四、训练并保存模型\n",
        "用所有数据进行训练，将模型保存到`gru4rec.pt`"
      ]
    },
    {
      "cell_type": "code",
      "execution_count": 31,
      "metadata": {
        "id": "IqpO3p38MzId"
      },
      "outputs": [],
      "source": [
        "data_all = TrainDataset(data)\n",
        "loader = get_dataloader(batch_size=256,\n",
        "                        dataset=data_all,\n",
        "                        train=True)"
      ]
    },
    {
      "cell_type": "code",
      "execution_count": 32,
      "metadata": {
        "colab": {
          "base_uri": "https://localhost:8080/",
          "height": 767
        },
        "id": "K9no4mv7UEjN",
        "outputId": "a5594a96-26c9-497d-fadc-f48663125f64"
      },
      "outputs": [
        {
          "output_type": "stream",
          "name": "stdout",
          "text": [
            "\n",
            "epoch 0 ......\n",
            "train loss = 747.31\n",
            "test accuracy = 0.02\n",
            "MRR@20 = 0.0383 | HR@20 = 12.3394%\n",
            "MRR@5 = 0.0319 | HR@5 = 5.6934%\n",
            "\n",
            "epoch 20 ......\n",
            "train loss = 83.19\n",
            "test accuracy = 0.90\n",
            "MRR@20 = 0.9715 | HR@20 = 99.9557%\n",
            "MRR@5 = 0.9708 | HR@5 = 99.3797%\n",
            "\n",
            "epoch 40 ......\n",
            "train loss = 75.14\n",
            "test accuracy = 0.91\n",
            "MRR@20 = 0.9766 | HR@20 = 99.9778%\n",
            "MRR@5 = 0.9760 | HR@5 = 99.6012%\n",
            "\n",
            "epoch 60 ......\n",
            "train loss = 74.29\n",
            "test accuracy = 0.91\n",
            "MRR@20 = 0.9775 | HR@20 = 100.0000%\n",
            "MRR@5 = 0.9770 | HR@5 = 99.6455%\n"
          ]
        },
        {
          "output_type": "display_data",
          "data": {
            "text/plain": [
              "<Figure size 1008x360 with 2 Axes>"
            ],
            "image/png": "[encoded data removed]"
          },
          "metadata": {
            "needs_background": "light"
          }
        }
      ],
      "source": [
        "model0 = GRU4REC(item_size, output_size, embedding_size, hidden_size, dp=0).to(device)\n",
        "\n",
        "train0 = ModelTrain(model=model0,\n",
        "                    dataset=(data_all, test_dataset),\n",
        "                    train_loader=loader,\n",
        "                    test_loader=test_loader,\n",
        "                    optimizer=torch.optim.Adam(model0.parameters(), lr=0.01),\n",
        "                    loss_func=nn.CrossEntropyLoss(),\n",
        "                    n_epoch=80)\n",
        "\n",
        "train0.train(test=True)\n",
        "train0.plot_performance()"
      ]
    },
    {
      "cell_type": "code",
      "execution_count": 33,
      "metadata": {
        "id": "WAYLjIqDMzP5"
      },
      "outputs": [],
      "source": [
        "torch.save(train0.model.state_dict(), 'gru4rec.pt')"
      ]
    },
    {
      "cell_type": "code",
      "source": [
        ""
      ],
      "metadata": {
        "id": "utlDmH47nvI3"
      },
      "execution_count": null,
      "outputs": []
    }
  ],
  "metadata": {
    "accelerator": "GPU",
    "colab": {
      "collapsed_sections": [
        "8V6WOQ3KCCgq",
        "CuOkFVnuCCgr",
        "ddeLvaPoCCgy",
        "LTVEehi6CCg2",
        "J5qjd6TLCCg5",
        "udhIj3i1CCg8",
        "OnxsAZySIrKR",
        "XCqrMSC6IMki",
        "BMOEKZNpEtqW",
        "xrGrBmdGL964",
        "j9ohz24FhSEA",
        "RXqk-tdWM2sN"
      ],
      "name": "0 GRU4REC.ipynb",
      "provenance": []
    },
    "interpreter": {
      "hash": "6722e1c430aa84dda42c1f3bd57fd26c2bbb20190f4c23f82220d33936873c2e"
    },
    "kernelspec": {
      "display_name": "Python 3",
      "name": "python3"
    },
    "language_info": {
      "name": "python"
    },
    "toc-autonumbering": false,
    "toc-showmarkdowntxt": false,
    "gpuClass": "standard"
  },
  "nbformat": 4,
  "nbformat_minor": 0
}