{
  "cells": [
    {
      "cell_type": "code",
      "execution_count": 15,
      "metadata": {
        "id": "TpI_-XulCCgJ"
      },
      "outputs": [],
      "source": [
        "import numpy as np\n",
        "import torch\n",
        "import torch.nn as nn\n",
        "from torch.nn.init import xavier_uniform_, xavier_normal_\n",
        "import matplotlib.pyplot as plt\n",
        "\n",
        "from process_data import data, train_data, test_data, item_set\n",
        "from process_data import TrainDataset, MyDataset, get_dataloader\n",
        "\n",
        "\n",
        "import warnings\n",
        "warnings.filterwarnings(\"ignore\")"
      ]
    },
    {
      "cell_type": "markdown",
      "metadata": {
        "id": "8V6WOQ3KCCgq",
        "tags": []
      },
      "source": [
        "# 一、GRUwATT搭建"
      ]
    },
    {
      "cell_type": "code",
      "execution_count": 3,
      "metadata": {
        "id": "1bfl24myzSWQ"
      },
      "outputs": [],
      "source": [
        "class GRUwATT(nn.Module):\n",
        "    def __init__(self, input_size, output_size, embedding_size, hidden_size, n_layers=1):\n",
        "        \"\"\"\n",
        "        input_size = output_size = num_item\n",
        "        \"\"\"\n",
        "        super(GRUwATT, self).__init__()\n",
        "\n",
        "        # === 定义参数 ===\n",
        "        self.n_items = input_size\n",
        "        self.output_size = output_size\n",
        "        self.embedding_size = embedding_size\n",
        "        self.hidden_size = hidden_size\n",
        "        self.n_layers = n_layers\n",
        "\n",
        "        # === 定义layers ===\n",
        "        # 1. embedding layer\n",
        "        self.item_embedding = nn.Embedding(self.n_items, self.embedding_size, padding_idx=0)\n",
        "        self.emb_dropout = nn.Dropout(0.25)\n",
        "        # 2. GRU layer\n",
        "        self.gru = nn.GRU(input_size=self.embedding_size,\n",
        "                          hidden_size=self.hidden_size,\n",
        "                          num_layers=self.n_layers,\n",
        "                          bias=False,\n",
        "                          batch_first=True)\n",
        "        # 3. attention\n",
        "        self.A1 = nn.Linear(self.hidden_size, self.hidden_size, bias=False)\n",
        "        self.A2 = nn.Linear(self.hidden_size, self.hidden_size, bias=False)\n",
        "        self.v = nn.Linear(self.hidden_size, 1, bias=False)\n",
        "        # 4. feedforward layers\n",
        "        self.feedforward = nn.Linear(2*self.hidden_size, self.embedding_size)\n",
        "\n",
        "        # === 初始化参数 ===\n",
        "        xavier_normal_(self.item_embedding.weight)\n",
        "        xavier_uniform_(self.gru.weight_hh_l0)\n",
        "        xavier_uniform_(self.gru.weight_ih_l0)\n",
        "        xavier_normal_(self.feedforward.weight)\n",
        "\n",
        "    def forward(self, item_seq, item_seq_len):\n",
        "        \"\"\"\n",
        "        Params:\n",
        "            item_seq, shape = (batch_size, seq_len)\n",
        "        Return:\n",
        "            scores, shape = (batch_size*seq_len, output_size)\n",
        "        \"\"\"\n",
        "\n",
        "        # embedding layer\n",
        "        seq_embedding = self.item_embedding(item_seq) # [bs, seq_len, emb_size]\n",
        "        gru_input = self.emb_dropout(seq_embedding)\n",
        "\n",
        "        # GRU layer\n",
        "        gru_output, _ = self.gru(gru_input)  # [bs, seq_len, hidden_size]\n",
        "\n",
        "        mask = item_seq.gt(0)\n",
        "        # === 求出最后一个hidden state ht ===\n",
        "        batchsize = mask.shape[0]\n",
        "        dim0_idx = torch.arange(batchsize).long()  # [0, 1, ..., bs-1]，batch中的每个session\n",
        "        dim1_idx = torch.sum(mask, 1) - 1  # [bs], 每个session中最后一个item的下标\n",
        "        ht = gru_output[dim0_idx, dim1_idx]  # ht, [bs, hidden_size]\n",
        "\n",
        "        # === attention部分 ===\n",
        "        q1 = self.A1(gru_output)  # [bs, seq_len, hidden_size]\n",
        "        q2 = self.A2(ht)  # [bs, hidden_size]\n",
        "\n",
        "        q2 = q2.unsqueeze(1).expand_as(q1)\n",
        "        mask = mask.unsqueeze(2).expand_as(gru_output)  # [bs, seq_len, hidden_size]\n",
        "        alpha = self.v(mask * torch.sigmoid(q1 + q2)).expand_as(gru_output)  # [bs, seq_len, hidden_size]\n",
        "        c = alpha * gru_output  # [bs, seq_len, hidden_size]\n",
        "        c_t = torch.cat([gru_output, c], 2)  # [bs, seq_len, 2*hidden_size]\n",
        "\n",
        "        # feed forward layer\n",
        "        output = self.feedforward(c_t)  # [bs, seq_len, emb_size]\n",
        "\n",
        "        # 映射回item_size空间\n",
        "        output = output @ self.item_embedding.weight.T  # [bs, seq_len, n_items]\n",
        "\n",
        "        return output\n",
        "\n",
        "    def predict(self, item_seq):\n",
        "        \"\"\"\n",
        "        Params:\n",
        "            item_seq, shape = (batch_size, seq_len)\n",
        "        Return:\n",
        "            final_scores, shape = (batch_size, item_size)\n",
        "        \"\"\"\n",
        "        self.eval()\n",
        "        with torch.no_grad():\n",
        "            scores = self.forward(item_seq, item_seq.shape[1])  # [bs, seq_len, item_size]\n",
        "        self.train()\n",
        "        final_score = scores[:, -1, :]  # 取最后一个timestep，[bs, item_size]\n",
        "        return final_score"
      ]
    },
    {
      "cell_type": "markdown",
      "metadata": {
        "id": "O8v4BfVKCCg2",
        "tags": []
      },
      "source": [
        "# 二、模型训练"
      ]
    },
    {
      "cell_type": "markdown",
      "metadata": {
        "id": "tUqkWl3NzSWT",
        "jp-MarkdownHeadingCollapsed": true,
        "tags": []
      },
      "source": [
        "## 评价指标"
      ]
    },
    {
      "cell_type": "code",
      "execution_count": 4,
      "metadata": {
        "id": "UGDiKRIIzSWU",
        "tags": []
      },
      "outputs": [],
      "source": [
        "def test_HR_MRR(model, test_dataset, k=20):\n",
        "    count = 0\n",
        "    score = 0\n",
        "    for X, y in test_dataset:\n",
        "        X = torch.tensor(X, dtype=torch.long).to(device)\n",
        "        X = X.unsqueeze(0)  # [1, seq_len]\n",
        "\n",
        "        # 预测\n",
        "        output = model.predict(X).cpu().detach()  # [1, item_size]\n",
        "        output = output.squeeze(0)\n",
        "        top_k = output.topk(k).indices.numpy()\n",
        "\n",
        "        if y in top_k:\n",
        "            # HR\n",
        "            count += 1\n",
        "            # MRR\n",
        "            rank_y = np.where(top_k == y)[0][0] + 1\n",
        "            score += 1 / rank_y\n",
        "\n",
        "    HR = count / len(test_dataset)\n",
        "    MRR = score / len(test_dataset)\n",
        "\n",
        "    return HR, MRR"
      ]
    },
    {
      "cell_type": "markdown",
      "metadata": {
        "id": "LTVEehi6CCg2",
        "tags": []
      },
      "source": [
        "## 1. 模型训练设置\n",
        "\n",
        "定义了GRUwATT的`ModelTrain`类，打包训练过程"
      ]
    },
    {
      "cell_type": "code",
      "execution_count": 5,
      "metadata": {
        "id": "zJJdTVh4CCg6",
        "tags": []
      },
      "outputs": [],
      "source": [
        "class ModelTrain:\n",
        "    def __init__(self, model, dataset, train_loader, test_loader, optimizer, loss_func, n_epoch):\n",
        "        self.model = model\n",
        "        self.train_dataset = dataset[0]\n",
        "        self.test_dataset = dataset[1]\n",
        "        self.train_loader = train_loader\n",
        "        self.test_loader = test_loader\n",
        "        self.optimizer = optimizer\n",
        "        self.loss_func = loss_func\n",
        "        self.n_epoch = n_epoch\n",
        "\n",
        "        # 记录loss\n",
        "        self.train_losses = []\n",
        "        # 记录test上的准确率\n",
        "        self.test_acc = []\n",
        "\n",
        "    def _train_one_epoch(self, epoch):\n",
        "        train_loss = 0.0\n",
        "        for batch_idx, batch in enumerate(self.train_loader):\n",
        "            # 获取batch数据\n",
        "            X = batch[0].to(device)\n",
        "            y = batch[1].to(device)  # [bs]\n",
        "\n",
        "            # 模型预测\n",
        "            output = self.model(X, X.shape[1]) # [bs, seq_len, n_item]\n",
        "            output = output.reshape(-1, output.shape[-1])  # [bs*seq_len, n_item]\n",
        "\n",
        "            # 反向传播，更新参数\n",
        "            loss = self.loss_func(output, y.flatten())\n",
        "            train_loss += loss.item()\n",
        "            self.optimizer.zero_grad()\n",
        "            loss.backward()\n",
        "            self.optimizer.step()\n",
        "        if epoch % 20 == 0:\n",
        "            print(f\"\\nepoch {epoch} ......\")\n",
        "            print(f\"train loss = {train_loss:.2f}\")\n",
        "        self.train_losses.append(train_loss)\n",
        "\n",
        "    def _test_one_epoch(self):\n",
        "        # 由于test_loader的返回格式和train_loader不同，所以不用loss而是用accuracy来展示test上的效果\n",
        "        acc = 0\n",
        "        batch_idx = 0\n",
        "        for batch_idx, batch in enumerate(self.test_loader):\n",
        "            X = batch[0].to(device)\n",
        "            y = batch[1].to(device)\n",
        "            pred = self.model.predict(X)\n",
        "            pred = pred.argmax(1).cpu()\n",
        "            acc += np.sum(pred.numpy() == y.cpu().numpy()) / pred.shape[0]\n",
        "        acc /= (batch_idx + 1)\n",
        "        print(f\"test accuracy = {acc:.2f}\")\n",
        "        self.test_acc.append(acc)\n",
        "\n",
        "        # 计算评价指标\n",
        "        hit_ratio, MRR = test_HR_MRR(self.model, self.test_dataset)\n",
        "        print(f\"MRR = {MRR:.4f} | HR = {hit_ratio:.4%}\")\n",
        "\n",
        "    def train(self, test=False):\n",
        "        # 记录清零\n",
        "        self.train_losses = []\n",
        "        self.test_acc = []\n",
        "        # 训练\n",
        "        self.model.train()\n",
        "        for e in range(self.n_epoch):\n",
        "            self._train_one_epoch(e)\n",
        "\n",
        "            # 在test上进行测试，包括accuracy和评价指标的计算\n",
        "            if e % 20 == 0 and test:\n",
        "                self.model.eval()\n",
        "                with torch.no_grad():\n",
        "                    self._test_one_epoch()\n",
        "                self.model.train()\n",
        "\n",
        "    def get_info(self):\n",
        "        losses = {'train_losses': self.train_losses,\n",
        "                  'test_acc': self.test_acc}\n",
        "        return losses\n",
        "\n",
        "    def plot_train_loss(self):\n",
        "        plt.figure()\n",
        "        plt.plot(self.train_losses)\n",
        "        plt.ylabel('train loss')\n",
        "        plt.xlabel('epoch')\n",
        "        plt.show()\n",
        "\n",
        "    def plot_test_acc(self):\n",
        "        plt.figure()\n",
        "        plt.plot(self.test_acc)\n",
        "        plt.ylabel('test accuracy')\n",
        "        plt.xlabel('epoch')\n",
        "        plt.show()\n",
        "\n",
        "    def plot_performance(self):\n",
        "        fig = plt.figure(figsize=(14, 5))\n",
        "\n",
        "        ax = fig.add_subplot(121)\n",
        "        ax.plot(self.train_losses)\n",
        "        ax.set_ylabel('train_loss')\n",
        "        ax.set_xlabel('epoch')\n",
        "        ax.set_title(\"train loss change with epoch\")\n",
        "\n",
        "        ax = fig.add_subplot(122)\n",
        "        ax.plot([i * 20 for i in range(1, len(self.test_acc)+1)], self.test_acc)\n",
        "        ax.set_ylabel('test_accuracy')\n",
        "        ax.set_xlabel('epoch')\n",
        "        ax.set_title(\"test accuracy change per 20 epoches\")\n",
        "\n",
        "        plt.show()"
      ]
    },
    {
      "cell_type": "markdown",
      "metadata": {
        "id": "udhIj3i1CCg8",
        "tags": []
      },
      "source": [
        "## 2. 超参数设置"
      ]
    },
    {
      "cell_type": "code",
      "execution_count": 16,
      "metadata": {
        "id": "ZjLzjNbgCCg8"
      },
      "outputs": [],
      "source": [
        "num_epoch = 201\n",
        "batch_size = 256\n",
        "lr = 0.001\n",
        "embedding_size = 128\n",
        "hidden_size = 100\n",
        "item_size = len(item_set) + 1  # +1是因为做了零填充，相当于增加了一个item '0'\n",
        "output_size = item_size\n",
        "device = torch.device(\"cuda\" if torch.cuda.is_available() else \"cpu\")"
      ]
    },
    {
      "cell_type": "code",
      "execution_count": 17,
      "metadata": {
        "colab": {
          "base_uri": "https://localhost:8080/"
        },
        "id": "70z8SN3mCCg9",
        "outputId": "79cd7b09-021d-4c9b-e29b-c526fdc1f5a1"
      },
      "outputs": [
        {
          "output_type": "stream",
          "name": "stdout",
          "text": [
            "18055 4514\n",
            "18055 4514\n"
          ]
        }
      ],
      "source": [
        "# 数据\n",
        "print(len(train_data), len(test_data))\n",
        "\n",
        "train_dataset = TrainDataset(train_data)\n",
        "test_dataset = MyDataset(test_data)\n",
        "print(len(train_dataset), len(test_dataset))\n",
        "\n",
        "train_loader = get_dataloader(batch_size, dataset=train_dataset, train=True)\n",
        "test_loader = get_dataloader(batch_size, dataset=test_dataset, train=False)"
      ]
    },
    {
      "cell_type": "markdown",
      "metadata": {
        "id": "Wcdp33MLCCg_",
        "tags": []
      },
      "source": [
        "## 3. 训练和测试"
      ]
    },
    {
      "cell_type": "markdown",
      "metadata": {
        "id": "OnxsAZySIrKR",
        "jp-MarkdownHeadingCollapsed": true,
        "tags": []
      },
      "source": [
        "#### lr = 0.01, batch_size = 256"
      ]
    },
    {
      "cell_type": "code",
      "execution_count": 8,
      "metadata": {
        "colab": {
          "base_uri": "https://localhost:8080/"
        },
        "id": "Jig02LDLIrsi",
        "outputId": "6cddfd38-367b-4247-d41e-2582fb5f777b",
        "tags": []
      },
      "outputs": [
        {
          "output_type": "stream",
          "name": "stdout",
          "text": [
            "\n",
            "epoch 0 ......\n",
            "train loss = 592.09\n",
            "test accuracy = 0.01\n",
            "MRR = 0.0200 | HR = 6.7125%\n",
            "\n",
            "epoch 20 ......\n",
            "train loss = 70.52\n",
            "test accuracy = 0.29\n",
            "MRR = 0.3508 | HR = 46.7435%\n",
            "\n",
            "epoch 40 ......\n",
            "train loss = 60.59\n",
            "test accuracy = 0.31\n",
            "MRR = 0.3714 | HR = 47.4967%\n",
            "\n",
            "epoch 60 ......\n",
            "train loss = 59.48\n",
            "test accuracy = 0.31\n",
            "MRR = 0.3751 | HR = 47.7404%\n",
            "\n",
            "epoch 80 ......\n",
            "train loss = 56.35\n",
            "test accuracy = 0.32\n",
            "MRR = 0.3772 | HR = 47.3416%\n",
            "\n",
            "epoch 100 ......\n",
            "train loss = 54.86\n",
            "test accuracy = 0.32\n",
            "MRR = 0.3806 | HR = 47.1865%\n",
            "\n",
            "epoch 120 ......\n",
            "train loss = 56.64\n",
            "test accuracy = 0.33\n",
            "MRR = 0.3835 | HR = 47.4302%\n",
            "\n",
            "epoch 140 ......\n",
            "train loss = 56.75\n",
            "test accuracy = 0.32\n",
            "MRR = 0.3818 | HR = 47.6296%\n",
            "\n",
            "epoch 160 ......\n",
            "train loss = 56.88\n",
            "test accuracy = 0.32\n",
            "MRR = 0.3777 | HR = 47.5188%\n",
            "\n",
            "epoch 180 ......\n",
            "train loss = 60.62\n",
            "test accuracy = 0.32\n",
            "MRR = 0.3759 | HR = 47.5853%\n",
            "\n",
            "epoch 200 ......\n",
            "train loss = 57.61\n",
            "test accuracy = 0.32\n",
            "MRR = 0.3785 | HR = 47.4967%\n"
          ]
        }
      ],
      "source": [
        "model1 = GRUwATT(item_size, output_size, embedding_size, hidden_size).to(device)\n",
        "\n",
        "train1 = ModelTrain(model=model1,\n",
        "                    dataset=(train_dataset, test_dataset),\n",
        "                    train_loader=train_loader,\n",
        "                    test_loader=test_loader,\n",
        "                    optimizer=torch.optim.Adam(model1.parameters(), lr=0.01),\n",
        "                    loss_func=nn.CrossEntropyLoss(),\n",
        "                    n_epoch=num_epoch)\n",
        "\n",
        "train1.train(test=True)"
      ]
    },
    {
      "cell_type": "markdown",
      "metadata": {
        "id": "T3fNDHvdzSWh",
        "jp-MarkdownHeadingCollapsed": true,
        "tags": []
      },
      "source": [
        "#### lr = 0.005, batch_size = 256"
      ]
    },
    {
      "cell_type": "code",
      "execution_count": 9,
      "metadata": {
        "colab": {
          "base_uri": "https://localhost:8080/"
        },
        "id": "viP80XoRCChA",
        "outputId": "80b8cc37-b3a2-42e8-a3f0-fcbba95b6a61",
        "tags": []
      },
      "outputs": [
        {
          "output_type": "stream",
          "name": "stdout",
          "text": [
            "\n",
            "epoch 0 ......\n",
            "train loss = 605.42\n",
            "test accuracy = 0.00\n",
            "MRR = 0.0100 | HR = 4.0541%\n",
            "\n",
            "epoch 20 ......\n",
            "train loss = 58.86\n",
            "test accuracy = 0.30\n",
            "MRR = 0.3638 | HR = 46.9650%\n",
            "\n",
            "epoch 40 ......\n",
            "train loss = 38.62\n",
            "test accuracy = 0.34\n",
            "MRR = 0.3904 | HR = 47.4745%\n",
            "\n",
            "epoch 60 ......\n",
            "train loss = 35.62\n",
            "test accuracy = 0.34\n",
            "MRR = 0.3931 | HR = 46.5662%\n",
            "\n",
            "epoch 80 ......\n",
            "train loss = 31.58\n",
            "test accuracy = 0.34\n",
            "MRR = 0.3942 | HR = 46.9428%\n",
            "\n",
            "epoch 100 ......\n",
            "train loss = 29.21\n",
            "test accuracy = 0.35\n",
            "MRR = 0.3994 | HR = 47.2308%\n",
            "\n",
            "epoch 120 ......\n",
            "train loss = 27.92\n",
            "test accuracy = 0.35\n",
            "MRR = 0.3972 | HR = 46.8985%\n",
            "\n",
            "epoch 140 ......\n",
            "train loss = 27.33\n",
            "test accuracy = 0.35\n",
            "MRR = 0.3998 | HR = 47.2087%\n",
            "\n",
            "epoch 160 ......\n",
            "train loss = 26.38\n",
            "test accuracy = 0.36\n",
            "MRR = 0.4015 | HR = 46.8764%\n",
            "\n",
            "epoch 180 ......\n",
            "train loss = 25.50\n",
            "test accuracy = 0.36\n",
            "MRR = 0.4007 | HR = 46.5884%\n",
            "\n",
            "epoch 200 ......\n",
            "train loss = 25.53\n",
            "test accuracy = 0.35\n",
            "MRR = 0.3986 | HR = 46.4112%\n"
          ]
        }
      ],
      "source": [
        "model2 = GRUwATT(item_size, output_size, embedding_size, hidden_size).to(device)\n",
        "\n",
        "train2 = ModelTrain(model=model2,\n",
        "                    dataset=(train_dataset, test_dataset),\n",
        "                    train_loader=train_loader,\n",
        "                    test_loader=test_loader,\n",
        "                    optimizer=torch.optim.Adam(model2.parameters(), lr=0.005),\n",
        "                    loss_func=nn.CrossEntropyLoss(),\n",
        "                    n_epoch=num_epoch)\n",
        "\n",
        "train2.train(test=True)"
      ]
    },
    {
      "cell_type": "markdown",
      "metadata": {
        "id": "4GthE4A1zSWi",
        "jp-MarkdownHeadingCollapsed": true,
        "tags": []
      },
      "source": [
        "#### lr = 0.005, batch_size = 128"
      ]
    },
    {
      "cell_type": "code",
      "execution_count": 10,
      "metadata": {
        "colab": {
          "base_uri": "https://localhost:8080/"
        },
        "id": "SCP49De0EtJe",
        "outputId": "1989b48b-3a9e-42e7-c969-75eb9cc977ae"
      },
      "outputs": [
        {
          "output_type": "stream",
          "name": "stdout",
          "text": [
            "\n",
            "epoch 0 ......\n",
            "train loss = 1175.10\n",
            "test accuracy = 0.01\n",
            "MRR = 0.0222 | HR = 8.2189%\n",
            "\n",
            "epoch 20 ......\n",
            "train loss = 121.44\n",
            "test accuracy = 0.30\n",
            "MRR = 0.3638 | HR = 47.7625%\n",
            "\n",
            "epoch 40 ......\n",
            "train loss = 96.66\n",
            "test accuracy = 0.33\n",
            "MRR = 0.3828 | HR = 46.8985%\n",
            "\n",
            "epoch 60 ......\n",
            "train loss = 81.95\n",
            "test accuracy = 0.34\n",
            "MRR = 0.3931 | HR = 47.0979%\n",
            "\n",
            "epoch 80 ......\n",
            "train loss = 76.45\n",
            "test accuracy = 0.34\n",
            "MRR = 0.3945 | HR = 46.9428%\n",
            "\n",
            "epoch 100 ......\n",
            "train loss = 75.62\n",
            "test accuracy = 0.34\n",
            "MRR = 0.3958 | HR = 47.2308%\n",
            "\n",
            "epoch 120 ......\n",
            "train loss = 69.76\n",
            "test accuracy = 0.35\n",
            "MRR = 0.3972 | HR = 46.8099%\n",
            "\n",
            "epoch 140 ......\n",
            "train loss = 71.71\n",
            "test accuracy = 0.35\n",
            "MRR = 0.3968 | HR = 46.8321%\n",
            "\n",
            "epoch 160 ......\n",
            "train loss = 73.88\n",
            "test accuracy = 0.34\n",
            "MRR = 0.3930 | HR = 47.0758%\n",
            "\n",
            "epoch 180 ......\n",
            "train loss = 70.15\n",
            "test accuracy = 0.34\n",
            "MRR = 0.3950 | HR = 47.0315%\n",
            "\n",
            "epoch 200 ......\n",
            "train loss = 80.25\n",
            "test accuracy = 0.34\n",
            "MRR = 0.3937 | HR = 46.6105%\n"
          ]
        }
      ],
      "source": [
        "train_loader2 = get_dataloader(128, dataset=train_dataset, train=True)\n",
        "test_loader2 = get_dataloader(128, dataset=test_dataset, train=False)\n",
        "\n",
        "model3 = GRUwATT(item_size, output_size, embedding_size, hidden_size).to(device)\n",
        "\n",
        "train3 = ModelTrain(model=model3,\n",
        "                    dataset=(train_dataset, test_dataset),\n",
        "                    train_loader=train_loader2,\n",
        "                    test_loader=test_loader2,\n",
        "                    optimizer=torch.optim.Adam(model3.parameters(), lr=0.005),\n",
        "                    loss_func=nn.CrossEntropyLoss(),\n",
        "                    n_epoch=num_epoch)\n",
        "\n",
        "train3.train(test=True)"
      ]
    },
    {
      "cell_type": "markdown",
      "metadata": {
        "id": "xrGrBmdGL964",
        "jp-MarkdownHeadingCollapsed": true,
        "tags": []
      },
      "source": [
        "#### lr = 0.01, batch_size = 128"
      ]
    },
    {
      "cell_type": "code",
      "execution_count": 11,
      "metadata": {
        "colab": {
          "base_uri": "https://localhost:8080/"
        },
        "id": "2oo6ZcblL96_",
        "outputId": "2d48c917-2238-433d-b974-004b913220ba"
      },
      "outputs": [
        {
          "output_type": "stream",
          "name": "stdout",
          "text": [
            "\n",
            "epoch 0 ......\n",
            "train loss = 1147.16\n",
            "test accuracy = 0.02\n",
            "MRR = 0.0433 | HR = 12.9375%\n",
            "\n",
            "epoch 20 ......\n",
            "train loss = 197.57\n",
            "test accuracy = 0.22\n",
            "MRR = 0.2957 | HR = 44.9712%\n",
            "\n",
            "epoch 40 ......\n",
            "train loss = 173.78\n",
            "test accuracy = 0.26\n",
            "MRR = 0.3299 | HR = 45.8573%\n",
            "\n",
            "epoch 60 ......\n",
            "train loss = 183.83\n",
            "test accuracy = 0.26\n",
            "MRR = 0.3335 | HR = 46.8099%\n",
            "\n",
            "epoch 80 ......\n",
            "train loss = 162.61\n",
            "test accuracy = 0.27\n",
            "MRR = 0.3438 | HR = 46.6770%\n",
            "\n",
            "epoch 100 ......\n",
            "train loss = 175.81\n",
            "test accuracy = 0.27\n",
            "MRR = 0.3398 | HR = 46.7878%\n",
            "\n",
            "epoch 120 ......\n",
            "train loss = 187.89\n",
            "test accuracy = 0.26\n",
            "MRR = 0.3326 | HR = 46.7878%\n",
            "\n",
            "epoch 140 ......\n",
            "train loss = 184.08\n",
            "test accuracy = 0.26\n",
            "MRR = 0.3353 | HR = 46.3890%\n",
            "\n",
            "epoch 160 ......\n",
            "train loss = 184.80\n",
            "test accuracy = 0.27\n",
            "MRR = 0.3388 | HR = 46.5662%\n",
            "\n",
            "epoch 180 ......\n",
            "train loss = 191.87\n",
            "test accuracy = 0.26\n",
            "MRR = 0.3358 | HR = 46.7435%\n",
            "\n",
            "epoch 200 ......\n",
            "train loss = 181.99\n",
            "test accuracy = 0.28\n",
            "MRR = 0.3450 | HR = 46.4998%\n"
          ]
        }
      ],
      "source": [
        "train_loader2 = get_dataloader(128, dataset=train_dataset, train=True)\n",
        "test_loader2 = get_dataloader(128, dataset=test_dataset, train=False)\n",
        "\n",
        "model4 = GRUwATT(item_size, output_size, embedding_size, hidden_size).to(device)\n",
        "\n",
        "train4 = ModelTrain(model=model4,\n",
        "                    dataset=(train_dataset, test_dataset),\n",
        "                    train_loader=train_loader2,\n",
        "                    test_loader=test_loader2,\n",
        "                    optimizer=torch.optim.Adam(model4.parameters(), lr=0.01),\n",
        "                    loss_func=nn.CrossEntropyLoss(),\n",
        "                    n_epoch=num_epoch)\n",
        "\n",
        "train4.train(test=True)"
      ]
    },
    {
      "cell_type": "markdown",
      "metadata": {
        "id": "pI4DIJ8hHHEN",
        "tags": []
      },
      "source": [
        "# 四、训练并保存模型\n",
        "用所有数据进行训练，将模型保存到`GRUwATT.pt`"
      ]
    },
    {
      "cell_type": "code",
      "execution_count": 18,
      "metadata": {
        "id": "Xxm5bwkEB7vm"
      },
      "outputs": [],
      "source": [
        "data_all = TrainDataset(data)\n",
        "loader = get_dataloader(batch_size=256,\n",
        "                        dataset=data_all,\n",
        "                        train=True)"
      ]
    },
    {
      "cell_type": "code",
      "execution_count": 19,
      "metadata": {
        "colab": {
          "base_uri": "https://localhost:8080/"
        },
        "id": "K0Sn41yOBpuW",
        "outputId": "ef4928bb-0fc7-453b-8faf-fc0869303051"
      },
      "outputs": [
        {
          "output_type": "stream",
          "name": "stdout",
          "text": [
            "\n",
            "epoch 0 ......\n",
            "train loss = 750.22\n",
            "test accuracy = 0.01\n",
            "MRR = 0.0197 | HR = 7.2220%\n",
            "\n",
            "epoch 20 ......\n",
            "train loss = 75.06\n",
            "test accuracy = 0.86\n",
            "MRR = 0.9407 | HR = 99.6455%\n",
            "\n",
            "epoch 40 ......\n",
            "train loss = 53.47\n",
            "test accuracy = 0.90\n",
            "MRR = 0.9715 | HR = 100.0000%\n",
            "\n",
            "epoch 60 ......\n",
            "train loss = 47.85\n",
            "test accuracy = 0.91\n",
            "MRR = 0.9755 | HR = 100.0000%\n",
            "\n",
            "epoch 80 ......\n",
            "train loss = 43.69\n",
            "test accuracy = 0.90\n",
            "MRR = 0.9718 | HR = 99.9557%\n"
          ]
        }
      ],
      "source": [
        "model = GRUwATT(item_size, output_size, embedding_size, hidden_size).to(device)\n",
        "\n",
        "train0 = ModelTrain(model=model,\n",
        "                    dataset=(data_all, test_dataset),\n",
        "                    train_loader=loader,\n",
        "                    test_loader=test_loader,\n",
        "                    optimizer=torch.optim.Adam(model.parameters(), lr=0.005),\n",
        "                    loss_func=nn.CrossEntropyLoss(), n_epoch=100)\n",
        "\n",
        "train0.train(test=True)"
      ]
    },
    {
      "cell_type": "code",
      "execution_count": 20,
      "metadata": {
        "id": "62Jx6JX_B07T"
      },
      "outputs": [],
      "source": [
        "torch.save(train0.model.state_dict(), 'GRUwARTT.pt')"
      ]
    },
    {
      "cell_type": "code",
      "execution_count": null,
      "metadata": {
        "id": "_By5Gb6LB0-U"
      },
      "outputs": [],
      "source": [
        ""
      ]
    }
  ],
  "metadata": {
    "accelerator": "GPU",
    "colab": {
      "collapsed_sections": [
        "8V6WOQ3KCCgq",
        "CuOkFVnuCCgr",
        "ddeLvaPoCCgy",
        "LTVEehi6CCg2",
        "J5qjd6TLCCg5",
        "udhIj3i1CCg8",
        "OnxsAZySIrKR",
        "XCqrMSC6IMki",
        "BMOEKZNpEtqW",
        "xrGrBmdGL964",
        "j9ohz24FhSEA",
        "RXqk-tdWM2sN"
      ],
      "name": "3 GRUwATT.ipynb",
      "provenance": []
    },
    "interpreter": {
      "hash": "6722e1c430aa84dda42c1f3bd57fd26c2bbb20190f4c23f82220d33936873c2e"
    },
    "kernelspec": {
      "display_name": "PyCharm (pyFile)",
      "language": "python",
      "name": "pycharm-fe1bcf7e"
    },
    "language_info": {
      "codemirror_mode": {
        "name": "ipython",
        "version": 3
      },
      "file_extension": ".py",
      "mimetype": "text/x-python",
      "name": "python",
      "nbconvert_exporter": "python",
      "pygments_lexer": "ipython3",
      "version": "3.9.7"
    },
    "toc-autonumbering": false,
    "toc-showmarkdowntxt": false
  },
  "nbformat": 4,
  "nbformat_minor": 0
}