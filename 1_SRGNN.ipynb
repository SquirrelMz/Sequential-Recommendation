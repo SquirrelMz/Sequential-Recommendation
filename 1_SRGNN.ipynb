{
 "cells": [
  {
   "cell_type": "code",
   "execution_count": 3,
   "metadata": {
    "colab": {
     "base_uri": "https://localhost:8080/"
    },
    "id": "nrQcYAA0ZAQr",
    "outputId": "b715522c-9577-4452-bb59-0de6175ce151"
   },
   "outputs": [
    {
     "name": "stdout",
     "output_type": "stream",
     "text": [
      "\n"
     ]
    }
   ],
   "source": [
    "import numpy as np\n",
    "import math\n",
    "import torch\n",
    "from torch import nn\n",
    "from torch.nn import Parameter\n",
    "from torch.nn import functional as F\n",
    "import matplotlib.pyplot as plt\n",
    "\n",
    "from process_data import train_data, test_data, item_set, MyDataset, get_dataloader\n",
    "\n",
    "import warnings\n",
    "warnings.filterwarnings(\"ignore\")"
   ]
  },
  {
   "cell_type": "markdown",
   "metadata": {
    "id": "R0W-RzvOZAQw",
    "jp-MarkdownHeadingCollapsed": true,
    "tags": []
   },
   "source": [
    "# 一、构建session graph\n",
    "\n",
    "建立邻接矩阵$\\mathbf{A}$，包括$\\mathbf{A}^{(in)}$和$\\mathbf{A}^{(out)}$"
   ]
  },
  {
   "cell_type": "code",
   "execution_count": 4,
   "metadata": {
    "id": "8HR3lw27ZAQw"
   },
   "outputs": [],
   "source": [
    "def get_slice(item_seq, device):\n",
    "    \"\"\"\n",
    "    获取alias_inputs, A, items, mask\n",
    "    \"\"\"\n",
    "    # Mask matrix, shape = [batch_size, max_seq_len]\n",
    "    mask = item_seq.gt(0)  # > 0的元素\n",
    "\n",
    "    max_n_node = item_seq.size(1)\n",
    "    items, A, alias_inputs = [], [], []\n",
    "    item_seq = item_seq.cpu().numpy()\n",
    "\n",
    "    # === 构造邻接矩阵A ===\n",
    "    for u_input in item_seq:\n",
    "        # 将该session去重，并由大到小排序\n",
    "        node = np.unique(u_input)\n",
    "        # 以0填补后加入items列表\n",
    "        items.append(node.tolist() + (max_n_node - len(node)) * [0])\n",
    "\n",
    "        # 构造A（不区分in和out）\n",
    "        u_A = np.zeros((max_n_node, max_n_node))\n",
    "        for i in np.arange(len(u_input) - 1):\n",
    "            if u_input[i + 1] == 0:  # 是该session的最后一个item\n",
    "                break\n",
    "            u = np.where(node == u_input[i])[0][0]\n",
    "            v = np.where(node == u_input[i + 1])[0][0]\n",
    "            u_A[u][v] = 1\n",
    "\n",
    "        # A^in\n",
    "        u_sum_in = np.sum(u_A, 0)\n",
    "        u_sum_in[np.where(u_sum_in == 0)] = 1\n",
    "        u_A_in = np.divide(u_A, u_sum_in)  # 归一化\n",
    "\n",
    "        # A^out\n",
    "        u_sum_out = np.sum(u_A, 1)\n",
    "        u_sum_out[np.where(u_sum_out == 0)] = 1\n",
    "        u_A_out = np.divide(u_A.transpose(), u_sum_out)  # 归一化\n",
    "\n",
    "        # A\n",
    "        u_A = np.concatenate([u_A_in, u_A_out]).transpose()\n",
    "        A.append(u_A)\n",
    "\n",
    "        alias_inputs.append([np.where(node == i)[0][0] for i in u_input])\n",
    "\n",
    "    # The relative coordinates of the item node, shape = [batch_size, max_seq_len]\n",
    "    alias_inputs = torch.LongTensor(alias_inputs).to(device)\n",
    "\n",
    "    # The connection matrix, shape = [batch_size, max_seq_len, 2 * max_seq_len]\n",
    "    A = torch.FloatTensor(A).to(device)\n",
    "\n",
    "    # The unique item nodes, shape = [batch_size, max_seq_len]\n",
    "    items = torch.LongTensor(items).to(device)\n",
    "\n",
    "    return alias_inputs, A, items, mask"
   ]
  },
  {
   "cell_type": "markdown",
   "metadata": {
    "id": "lcO3u5CEZAQx",
    "tags": []
   },
   "source": [
    "# 二、搭建模型"
   ]
  },
  {
   "cell_type": "markdown",
   "metadata": {
    "id": "I8R2wW4vZAQx",
    "jp-MarkdownHeadingCollapsed": true,
    "tags": []
   },
   "source": [
    "## GGNN"
   ]
  },
  {
   "cell_type": "markdown",
   "metadata": {
    "id": "hN46hq9jZAQy"
   },
   "source": [
    "\\begin{align}\n",
    "\\mathbf{a}^t_{s, t} &= \\mathbf{A}_{s, i:}\\begin{bmatrix}\\mathbf{v}^{t-1}_1, ..., \\mathbf{v}^{t-1}_n \\end{bmatrix}^T \\mathbf{H} + \\mathbf{b} \\tag{1} \\\\\n",
    "\\mathbf{z}^t_{s,i} &= \\sigma(\\mathbf{W}_z \\mathbf{a}^t_{s, i} + \\mathbf{U}_z \\mathbf{v}^{t-1}_i) \\tag{2} \\\\\n",
    "\\mathbf{r}^t_{s,i} &= \\sigma(\\mathbf{W}_r \\mathbf{a}^t_{s, i} + \\mathbf{U}_r \\mathbf{v}^{t-1}_i) \\tag{3} \\\\\n",
    "\\tilde{\\mathbf{v}}^t_i &= \\text{tanh}(\\mathbf{W}_o \\mathbf{a}^t_{s, i} + \\mathbf{U}_o (\\mathbf{r}^t_{s,i} \\odot \\mathbf{v}^{t-1}_i)) \\tag{4} \\\\\n",
    "\\mathbf{v}^t_i &= (1-\\mathbf{z}^t_{s,i}) \\odot \\mathbf{v}^{t-1}_{i} + \\mathbf{z}^t_{s,i} \\odot \\tilde{\\mathbf{v}}^t_i \\tag{5}\n",
    "\\end{align}"
   ]
  },
  {
   "cell_type": "code",
   "execution_count": 5,
   "metadata": {
    "id": "3lzapWFwZAQy"
   },
   "outputs": [],
   "source": [
    "class GGNN(nn.Module):\n",
    "\n",
    "    def __init__(self, embedding_size, step=1):\n",
    "        super(GGNN, self).__init__()\n",
    "        self.step = step  # GNN层数\n",
    "        self.embedding_size = embedding_size\n",
    "        self.input_size = embedding_size * 2\n",
    "        self.gate_size = embedding_size * 3\n",
    "\n",
    "        # hidden层参数\n",
    "        self.w_ih = Parameter(torch.Tensor(self.gate_size, self.input_size))\n",
    "        self.w_hh = Parameter(torch.Tensor(self.gate_size, self.embedding_size))\n",
    "        self.b_ih = Parameter(torch.Tensor(self.gate_size))\n",
    "        self.b_hh = Parameter(torch.Tensor(self.gate_size))\n",
    "        self.b_iah = Parameter(torch.Tensor(self.embedding_size))\n",
    "        self.b_ioh = Parameter(torch.Tensor(self.embedding_size))\n",
    "\n",
    "        # 矩阵 H 对应的线性变换\n",
    "        self.linear_edge_in = nn.Linear(self.embedding_size, self.embedding_size)\n",
    "        self.linear_edge_out = nn.Linear(self.embedding_size, self.embedding_size)\n",
    "\n",
    "    def GGNNCell(self, A, hidden):\n",
    "        \"\"\"\n",
    "        用GNN学习item embedding\n",
    "\n",
    "        Params:\n",
    "            A(torch.FloatTensor): 邻接矩阵, shape = [batch_size, max_session_len, 2 * max_session_len]\n",
    "            hidden(torch.FloatTensor): 矩阵[v_i], shape = [batch_size, max_session_len, embedding_size]\n",
    "\n",
    "        Returns:\n",
    "            v: node embedding矩阵, shape = [batch_size, max_session_len, embedding_size]\n",
    "        \"\"\"\n",
    "\n",
    "        # === 公式(1) ===\n",
    "        max_len = A.size(1)\n",
    "        H_in = self.linear_edge_in(hidden)\n",
    "        H_out = self.linear_edge_out(hidden)\n",
    "        input_in = torch.matmul(A[:, :, : max_len], H_in) + self.b_iah\n",
    "        input_out = torch.matmul(A[:, :, max_len: 2*max_len], H_out) + self.b_ioh\n",
    "        # shape = [batch_size, max_session_len, embedding_size * 2]\n",
    "        mat_a = torch.cat([input_in, input_out], 2)\n",
    "\n",
    "        # shape = [batch_size, max_session_len, embedding_size * 3]\n",
    "        Wa = F.linear(mat_a, self.w_ih, self.b_ih)  # W·[a]\n",
    "        Uv = F.linear(hidden, self.w_hh, self.b_hh)  # U·[v]\n",
    "        # shape = (batch_size, max_session_len, embedding_size)\n",
    "        Wza, Wra, Woa = Wa.chunk(3, 2)\n",
    "        Uzv, Urv, Uov = Uv.chunk(3, 2)\n",
    "\n",
    "        # === 公式(2)和(3) ===\n",
    "        gate_r = torch.sigmoid(Wra + Urv)  # update gate\n",
    "        gate_z = torch.sigmoid(Wza + Uzv)  # reset gate\n",
    "\n",
    "        # === 公式(4) ===\n",
    "        candidate = torch.tanh(Woa + gate_r * Uov)\n",
    "\n",
    "        # === 公式(5) ===\n",
    "        v = (1 - gate_z) * hidden + gate_z * candidate\n",
    "        return v\n",
    "\n",
    "    def forward(self, A, hidden):\n",
    "        for i in range(self.step):\n",
    "            hidden = self.GGNNCell(A, hidden)\n",
    "        return hidden"
   ]
  },
  {
   "cell_type": "markdown",
   "metadata": {
    "id": "KECi409PZAQz",
    "tags": []
   },
   "source": [
    "## SR-GNN"
   ]
  },
  {
   "cell_type": "markdown",
   "metadata": {
    "id": "XToFqFg5ZAQz"
   },
   "source": [
    "$$ \\mathbf{s}_l = \\mathbf{v}_n \\\\ $$\n",
    "\n",
    "\\begin{align}\n",
    "\\alpha_i &= \\mathbf{q}^T \\cdot \\sigma(\\mathbf{W}_1\\mathbf{v}_n + \\mathbf{W}_2\\mathbf{v}_i + \\mathbf{c}) \\\\\n",
    "\\mathbf{s}_g &= \\sum_{i=1}^n \\alpha_i \\mathbf{v}_i \\tag{6} \n",
    "\\end{align}\n",
    "\n",
    "\\begin{align}\n",
    "\\mathbf{s}_h = \\mathbf{W}_3 [\\mathbf{s}_l, \\mathbf{s}_g] \\tag{7} \n",
    "\\end{align}\n",
    "\n",
    "\\begin{align}\n",
    "\\mathbf{\\hat{z}}_i = \\mathbf{s}_h^T \\mathbf{v}_i \\tag{8} \n",
    "\\end{align}\n",
    "\n",
    "$$ \\mathbf{\\hat{y}} = \\text{softmax}(\\mathbf{z}) \\in \\mathbb{R}^m $$"
   ]
  },
  {
   "cell_type": "code",
   "execution_count": 6,
   "metadata": {
    "id": "qvl7ZMi1ZAQ0"
   },
   "outputs": [],
   "source": [
    "class SRGNN(nn.Module):\n",
    "\n",
    "    def __init__(self, item_size, embedding_size, step, device):\n",
    "        super(SRGNN, self).__init__()\n",
    "\n",
    "        # === 定义参数 ===\n",
    "        self.embedding_size = embedding_size\n",
    "        self.step = step\n",
    "        self.n_items = item_size\n",
    "        self.device = device\n",
    "\n",
    "        # === 定义layers ===\n",
    "        # item embedding, 将session映射到embedding空间\n",
    "        self.item_embedding = nn.Embedding(self.n_items, self.embedding_size, padding_idx=0)\n",
    "        # layers\n",
    "        self.gnn = GGNN(self.embedding_size, self.step)\n",
    "        self.W1 = nn.Linear(self.embedding_size, self.embedding_size)  # W1\n",
    "        self.W2 = nn.Linear(self.embedding_size, self.embedding_size)  # W2\n",
    "        self.q = nn.Linear(self.embedding_size, 1, bias=False)  # q'\n",
    "        self.W3 = nn.Linear(self.embedding_size * 2, self.embedding_size)  # W3\n",
    "\n",
    "        # === 初始化参数 ===\n",
    "        self._reset_parameters()\n",
    "\n",
    "    def _reset_parameters(self):\n",
    "        stdv = 1.0 / math.sqrt(self.embedding_size)\n",
    "        for weight in self.parameters():\n",
    "            weight.data.uniform_(-stdv, stdv)\n",
    "\n",
    "    def forward(self, item_seq, seq_len):\n",
    "        alias_inputs, A, items, mask = get_slice(item_seq, self.device)\n",
    "\n",
    "        # === 公式(1)~(5)，得到item vector v ===\n",
    "        hidden = self.item_embedding(items)\n",
    "        hidden = self.gnn(A, hidden)  # v of items, [batch_size, seq_len, embedding_size]\n",
    "        # 注意上面是对'items'而不是X做embedding，所以需要用alias_inputs映射回X\n",
    "        alias_inputs = alias_inputs.view(-1, alias_inputs.size(1), 1).expand(-1, -1, self.embedding_size)\n",
    "        v = torch.gather(hidden, dim=1, index=alias_inputs)  # v of X, [batch_size, seq_len, embedding_size]\n",
    "\n",
    "        # === 得到local embedding sl ===\n",
    "        # sl = vn, 取batch里每个session中最后一个item的embedding\n",
    "        batchsize = mask.shape[0]\n",
    "        dim0_idx = torch.arange(batchsize).long()  # [0, 1, ..., bs-1]，取batch中每个session的数据\n",
    "        dim1_idx = torch.sum(mask, 1) - 1  # [bs], 每个session中最后一个item vn的下标 n-1\n",
    "        sl = v[dim0_idx, dim1_idx]  # [bs, embedding_size]\n",
    "\n",
    "        # === 公式(6)，得到global embedding sg ===\n",
    "        # attention\n",
    "        q1 = self.W1(sl).view(sl.size(0), 1, sl.size(1))  # W1·vn, [1, 1, embedding_size]\n",
    "        q2 = self.W2(v)  # W2·vi, [bs, seq_len, embedding_size]\n",
    "        alpha = self.q(torch.sigmoid(q1 + q2))  # [bs, seq_len, 1]\n",
    "        # sg = sum(alpha_i, v_i)\n",
    "        mask = mask.view(mask.size(0), -1, 1).float()\n",
    "        sg = torch.sum(alpha * v * mask, 1)  # [bs, embedding_size]\n",
    "\n",
    "        # === 公式(7)，得到session embedding s_h ===\n",
    "        # sh = W3·[sl, sg]\n",
    "        sh = self.W3(torch.cat([sg, sl], dim=1))  # [bs, embedding_size]\n",
    "\n",
    "        # 预测分数z\n",
    "        z = sh @ self.item_embedding.weight.T  # [bs, seq_len, n_items]\n",
    "\n",
    "        return z\n",
    "\n",
    "    def predict(self, item_seq):\n",
    "        scores = self.forward(item_seq, item_seq.shape[1])  # sh, [bs, embedding_size]\n",
    "        return scores"
   ]
  },
  {
   "cell_type": "markdown",
   "metadata": {
    "id": "4b6Z0D6BZAQ0",
    "tags": []
   },
   "source": [
    "# 三、模型训练"
   ]
  },
  {
   "cell_type": "markdown",
   "metadata": {
    "id": "RbGoHRppZAQ0",
    "tags": []
   },
   "source": [
    "## 评价指标"
   ]
  },
  {
   "cell_type": "code",
   "execution_count": 7,
   "metadata": {
    "id": "u4wyT2QlZAQ1"
   },
   "outputs": [],
   "source": [
    "def test_HR_MRR(model, test_dataset, k=20):\n",
    "    count = 0\n",
    "    score = 0\n",
    "    for X, y in test_dataset:\n",
    "        X = torch.tensor(X, dtype=torch.long).to(device)\n",
    "        X = X.unsqueeze(0)  # [1, seq_len]\n",
    "\n",
    "        # 预测，获取Top-K items列表\n",
    "        output = model.predict(X).cpu().detach()  # [1, item_size]\n",
    "        output = output.squeeze(0)  # [item_size]\n",
    "        top_k = output.topk(k).indices.numpy()\n",
    "\n",
    "        if y in top_k:\n",
    "            # HR\n",
    "            count += 1\n",
    "            # MRR\n",
    "            rank_y = np.where(top_k == y)[0][0] + 1\n",
    "            score += 1 / rank_y\n",
    "\n",
    "    HR = count / len(test_dataset)\n",
    "    MRR = score / len(test_dataset)\n",
    "\n",
    "    return HR, MRR"
   ]
  },
  {
   "cell_type": "markdown",
   "metadata": {
    "id": "LTVEehi6CCg2",
    "jp-MarkdownHeadingCollapsed": true,
    "tags": []
   },
   "source": [
    "## 1. 模型训练设置\n",
    "\n",
    "定义了SRGNN的`ModelTrain`类，打包训练过程"
   ]
  },
  {
   "cell_type": "code",
   "execution_count": 8,
   "metadata": {
    "id": "zJJdTVh4CCg6",
    "tags": []
   },
   "outputs": [],
   "source": [
    "class ModelTrain:\n",
    "    def __init__(self, model, dataset, train_loader, test_loader, optimizer, loss_func, n_epoch):\n",
    "        self.model = model\n",
    "        self.train_dataset = dataset[0]\n",
    "        self.test_dataset = dataset[1]\n",
    "        self.train_loader = train_loader\n",
    "        self.test_loader = test_loader\n",
    "        self.optimizer = optimizer\n",
    "        self.loss_func = loss_func\n",
    "        self.n_epoch = n_epoch\n",
    "\n",
    "        # 记录loss\n",
    "        self.train_losses = []\n",
    "        # 记录test上的准确率\n",
    "        self.test_acc = []\n",
    "\n",
    "    def _train_one_epoch(self, epoch):\n",
    "        train_loss = 0.0\n",
    "        for batch_idx, batch in enumerate(self.train_loader):\n",
    "            # 获取batch数据\n",
    "            X = batch[0].to(device)  # [bs, seq_len]\n",
    "            y = batch[1].to(device)  # [bs]\n",
    "\n",
    "            # 模型预测\n",
    "            scores = self.model(X, X.shape[1])  # [bs, item_size]\n",
    "            loss = self.loss_func(scores, y)\n",
    "            train_loss += loss.item()\n",
    "\n",
    "            # 反向传播，更新参数\n",
    "            loss = self.loss_func(scores, y)\n",
    "            self.optimizer.zero_grad()\n",
    "            loss.backward()\n",
    "            self.optimizer.step()\n",
    "        if epoch % 20 == 0:\n",
    "            print(f\"\\nepoch {epoch} ......\")\n",
    "            print(f\"train loss = {train_loss:.2f}\")\n",
    "        self.train_losses.append(train_loss)\n",
    "\n",
    "    def _test_one_epoch(self):\n",
    "        acc = 0\n",
    "        batch_idx = 0\n",
    "        for batch_idx, batch in enumerate(self.test_loader):\n",
    "            X = batch[0].to(device)\n",
    "            y = batch[1].to(device)  # [bs]\n",
    "            pred = self.model.predict(X)  # [bs, n_item]\n",
    "            pred = pred.argmax(1).cpu()  # [bs]\n",
    "            acc += np.sum(pred.numpy() == y.cpu().numpy()) / pred.shape[0]\n",
    "        acc /= (batch_idx + 1)\n",
    "        print(f\"test accuracy = {acc:.2f}\")\n",
    "        self.test_acc.append(acc)\n",
    "\n",
    "        # 计算评价指标\n",
    "        hit_ratio, MRR = test_HR_MRR(self.model, self.test_dataset)\n",
    "        print(f\"MRR = {MRR:.4f} | HR = {hit_ratio:.4%}\")\n",
    "\n",
    "    def train(self, test=False):\n",
    "        # 记录清零\n",
    "        self.train_losses = []\n",
    "        self.test_acc = []\n",
    "        # 训练\n",
    "        self.model.train()\n",
    "        for e in range(self.n_epoch):\n",
    "            self._train_one_epoch(e)\n",
    "\n",
    "            # 在test上进行测试，包括accuracy和评价指标的计算\n",
    "            if e % 20 == 0 and test:\n",
    "                self.model.eval()\n",
    "                with torch.no_grad():\n",
    "                    self._test_one_epoch()\n",
    "                self.model.train()\n",
    "\n",
    "    def get_info(self):\n",
    "        losses = {'train_losses': self.train_losses,\n",
    "                  'test_acc': self.test_acc}\n",
    "        return losses\n",
    "\n",
    "    def plot_train_loss(self):\n",
    "        plt.figure()\n",
    "        plt.plot(self.train_losses)\n",
    "        plt.ylabel('train loss')\n",
    "        plt.xlabel('epoch')\n",
    "        plt.show()\n",
    "\n",
    "    def plot_test_acc(self):\n",
    "        plt.figure()\n",
    "        plt.plot(self.test_acc)\n",
    "        plt.ylabel('test accuracy')\n",
    "        plt.xlabel('epoch')\n",
    "        plt.show()\n",
    "\n",
    "    def plot_performance(self):\n",
    "        fig = plt.figure(figsize=(14, 5))\n",
    "\n",
    "        ax = fig.add_subplot(121)\n",
    "        ax.plot(self.train_losses)\n",
    "        ax.set_ylabel('train_loss')\n",
    "        ax.set_xlabel('epoch')\n",
    "        ax.set_title(\"train loss change with epoch\")\n",
    "\n",
    "        ax = fig.add_subplot(122)\n",
    "        ax.plot([i * 20 for i in range(1, len(self.test_acc)+1)], self.test_acc)\n",
    "        ax.set_ylabel('test_accuracy')\n",
    "        ax.set_xlabel('epoch')\n",
    "        ax.set_title(\"test accuracy change per 20 epoches\")\n",
    "\n",
    "        plt.show()"
   ]
  },
  {
   "cell_type": "markdown",
   "metadata": {
    "id": "l7UEl5JTZAQ2",
    "jp-MarkdownHeadingCollapsed": true,
    "tags": []
   },
   "source": [
    "## 2. 超参数设置"
   ]
  },
  {
   "cell_type": "code",
   "execution_count": 9,
   "metadata": {
    "id": "3C7snAZsZAQ2"
   },
   "outputs": [],
   "source": [
    "num_epoch = 100\n",
    "batch_size = 256\n",
    "lr = 0.01\n",
    "embedding_size = 100\n",
    "hidden_size = 128\n",
    "item_size = len(item_set) + 1  # +1是因为做了零填充，相当于增加了一个item '0'\n",
    "output_size = item_size\n",
    "device = torch.device(\"cuda\" if torch.cuda.is_available() else \"cpu\")"
   ]
  },
  {
   "cell_type": "code",
   "execution_count": 10,
   "metadata": {
    "colab": {
     "base_uri": "https://localhost:8080/"
    },
    "id": "cBMUVkcdZAQ2",
    "outputId": "492230bd-961e-4d7b-a1f6-27fca3e0eb01"
   },
   "outputs": [
    {
     "name": "stdout",
     "output_type": "stream",
     "text": [
      "18055 4514\n"
     ]
    }
   ],
   "source": [
    "# 数据\n",
    "train_dataset = MyDataset(train_data)\n",
    "test_dataset = MyDataset(test_data)\n",
    "print(len(train_dataset), len(test_dataset))\n",
    "\n",
    "train_loader = get_dataloader(batch_size, dataset=train_dataset, train=False)\n",
    "test_loader = get_dataloader(batch_size, dataset=test_dataset, train=False)"
   ]
  },
  {
   "cell_type": "markdown",
   "metadata": {
    "id": "LQU7kwD_ZAQ2",
    "tags": []
   },
   "source": [
    "## 3. 训练和测试"
   ]
  },
  {
   "cell_type": "code",
   "execution_count": 11,
   "metadata": {
    "colab": {
     "base_uri": "https://localhost:8080/"
    },
    "id": "zPdwa-6jZAQ3",
    "outputId": "185e9ca6-7983-4b7e-e393-f8af87063b71"
   },
   "outputs": [
    {
     "name": "stdout",
     "output_type": "stream",
     "text": [
      "\n",
      "epoch 0 ......\n",
      "train loss = 615.13\n",
      "test accuracy = 0.01\n",
      "MRR = 0.0249 | HR = 8.6176%\n",
      "\n",
      "epoch 20 ......\n",
      "train loss = 58.95\n",
      "test accuracy = 0.05\n",
      "MRR = 0.0792 | HR = 15.2636%\n",
      "\n",
      "epoch 40 ......\n",
      "train loss = 17.17\n",
      "test accuracy = 0.05\n",
      "MRR = 0.0754 | HR = 13.7129%\n",
      "\n",
      "epoch 60 ......\n",
      "train loss = 13.95\n",
      "test accuracy = 0.05\n",
      "MRR = 0.0721 | HR = 12.6495%\n",
      "\n",
      "epoch 80 ......\n",
      "train loss = 125.01\n",
      "test accuracy = 0.05\n",
      "MRR = 0.0652 | HR = 11.8520%\n"
     ]
    }
   ],
   "source": [
    "model = SRGNN(item_size=item_size,\n",
    "              embedding_size=embedding_size,\n",
    "              step=1,\n",
    "              device=device).to(device)\n",
    "\n",
    "train = ModelTrain(model=model,\n",
    "                   dataset=(train_dataset, test_dataset),\n",
    "                   train_loader=train_loader,\n",
    "                   test_loader=test_loader,\n",
    "                   optimizer=torch.optim.Adam(model.parameters(), lr=lr),\n",
    "                   loss_func=nn.CrossEntropyLoss(),\n",
    "                   n_epoch=num_epoch)\n",
    "\n",
    "train.train(test=True)"
   ]
  },
  {
   "cell_type": "code",
   "execution_count": 12,
   "metadata": {
    "colab": {
     "base_uri": "https://localhost:8080/",
     "height": 350
    },
    "id": "RACibYolZAQ3",
    "outputId": "0eb1d85d-d6ad-4331-859c-791452c36d07"
   },
   "outputs": [
    {
     "data": {
      "image/png": "[encoded data removed]",
      "text/plain": [
       "<Figure size 1008x360 with 2 Axes>"
      ]
     },
     "metadata": {
      "needs_background": "light"
     },
     "output_type": "display_data"
    }
   ],
   "source": [
    "train.plot_performance()"
   ]
  },
  {
   "cell_type": "code",
   "execution_count": null,
   "metadata": {
    "id": "MWSrVzIdZAQ3"
   },
   "outputs": [],
   "source": []
  }
 ],
 "metadata": {
  "accelerator": "GPU",
  "colab": {
   "name": "1 SRGNN.ipynb",
   "provenance": []
  },
  "interpreter": {
   "hash": "6722e1c430aa84dda42c1f3bd57fd26c2bbb20190f4c23f82220d33936873c2e"
  },
  "kernelspec": {
   "display_name": "Python 3 (ipykernel)",
   "language": "python",
   "name": "python3"
  },
  "language_info": {
   "codemirror_mode": {
    "name": "ipython",
    "version": 3
   },
   "file_extension": ".py",
   "mimetype": "text/x-python",
   "name": "python",
   "nbconvert_exporter": "python",
   "pygments_lexer": "ipython3",
   "version": "3.9.7"
  }
 },
 "nbformat": 4,
 "nbformat_minor": 4
}
