{
  "cells": [
    {
      "cell_type": "code",
      "execution_count": 3,
      "metadata": {
        "colab": {
          "base_uri": "https://localhost:8080/"
        },
        "id": "k6mqCH1A1tIv",
        "outputId": "da546811-d656-4c46-d1d2-e4d336a20a8d"
      },
      "outputs": [
        {
          "output_type": "stream",
          "name": "stdout",
          "text": [
            "\n"
          ]
        }
      ],
      "source": [
        "import numpy as np\n",
        "import math\n",
        "import torch\n",
        "from torch import nn\n",
        "from torch.nn import Parameter\n",
        "from torch.nn import functional as F\n",
        "import matplotlib.pyplot as plt\n",
        "\n",
        "from process_data import data, train_data, test_data, item_set\n",
        "from process_data import TrainDataset, MyDataset, get_dataloader\n",
        "\n",
        "import warnings\n",
        "warnings.filterwarnings(\"ignore\")"
      ]
    },
    {
      "cell_type": "markdown",
      "metadata": {
        "jp-MarkdownHeadingCollapsed": true,
        "tags": [],
        "id": "heLWfd281tI1"
      },
      "source": [
        "# 一、构建session graph\n",
        "\n",
        "建立邻接矩阵$\\mathbf{A}$，包括$\\mathbf{A}^{(in)}$和$\\mathbf{A}^{(out)}$"
      ]
    },
    {
      "cell_type": "code",
      "execution_count": 5,
      "metadata": {
        "id": "xkV6Vdt71tI2"
      },
      "outputs": [],
      "source": [
        "def get_slice(item_seq, device):\n",
        "    \"\"\"\n",
        "    获取alias_inputs, A, items, mask\n",
        "    \"\"\"\n",
        "    # Mask matrix, shape = [batch_size, max_seq_len]\n",
        "    mask = item_seq.gt(0)  # > 0的元素\n",
        "\n",
        "    max_n_node = item_seq.size(1)\n",
        "    items, A, alias_inputs = [], [], []\n",
        "    item_seq = item_seq.cpu().numpy()\n",
        "\n",
        "    # === 构造邻接矩阵A ===\n",
        "    for u_input in item_seq:\n",
        "        # 将该session去重，并由大到小排序\n",
        "        node = np.unique(u_input)\n",
        "        # 以0填补后加入items列表\n",
        "        items.append(node.tolist() + (max_n_node - len(node)) * [0])\n",
        "\n",
        "        # 构造A（不区分in和out）\n",
        "        u_A = np.zeros((max_n_node, max_n_node))\n",
        "        for i in np.arange(len(u_input) - 1):\n",
        "            if u_input[i + 1] == 0:  # 是该session的最后一个item\n",
        "                break\n",
        "            u = np.where(node == u_input[i])[0][0]\n",
        "            v = np.where(node == u_input[i + 1])[0][0]\n",
        "            u_A[u][v] = 1\n",
        "\n",
        "        # A^in\n",
        "        u_sum_in = np.sum(u_A, 0)\n",
        "        u_sum_in[np.where(u_sum_in == 0)] = 1\n",
        "        u_A_in = np.divide(u_A, u_sum_in)  # 归一化\n",
        "\n",
        "        # A^out\n",
        "        u_sum_out = np.sum(u_A, 1)\n",
        "        u_sum_out[np.where(u_sum_out == 0)] = 1\n",
        "        u_A_out = np.divide(u_A.transpose(), u_sum_out)  # 归一化\n",
        "\n",
        "        # A\n",
        "        u_A = np.concatenate([u_A_in, u_A_out]).transpose()\n",
        "        A.append(u_A)\n",
        "\n",
        "        alias_inputs.append([np.where(node == i)[0][0] for i in u_input])\n",
        "\n",
        "    # The relative coordinates of the item node, shape = [batch_size, max_seq_len]\n",
        "    alias_inputs = torch.LongTensor(alias_inputs).to(device)\n",
        "\n",
        "    # The connection matrix, shape = [batch_size, max_seq_len, 2 * max_seq_len]\n",
        "    A = torch.FloatTensor(A).to(device)\n",
        "\n",
        "    # The unique item nodes, shape = [batch_size, max_seq_len]\n",
        "    items = torch.LongTensor(items).to(device)\n",
        "\n",
        "    return alias_inputs, A, items, mask"
      ]
    },
    {
      "cell_type": "markdown",
      "metadata": {
        "tags": [],
        "id": "CVSaLPf61tI3"
      },
      "source": [
        "# 二、搭建模型"
      ]
    },
    {
      "cell_type": "markdown",
      "metadata": {
        "jp-MarkdownHeadingCollapsed": true,
        "tags": [],
        "id": "4w4oBzpE1tI3"
      },
      "source": [
        "## GGNN"
      ]
    },
    {
      "cell_type": "markdown",
      "metadata": {
        "id": "_ynI1OZ41tI4"
      },
      "source": [
        "\\begin{align}\n",
        "\\mathbf{a}^t_{s, t} &= \\mathbf{A}_{s, i:}\\begin{bmatrix}\\mathbf{v}^{t-1}_1, ..., \\mathbf{v}^{t-1}_n \\end{bmatrix}^T \\mathbf{H} + \\mathbf{b} \\tag{1} \\\\\n",
        "\\mathbf{z}^t_{s,i} &= \\sigma(\\mathbf{W}_z \\mathbf{a}^t_{s, i} + \\mathbf{U}_z \\mathbf{v}^{t-1}_i) \\tag{2} \\\\\n",
        "\\mathbf{r}^t_{s,i} &= \\sigma(\\mathbf{W}_r \\mathbf{a}^t_{s, i} + \\mathbf{U}_r \\mathbf{v}^{t-1}_i) \\tag{3} \\\\\n",
        "\\tilde{\\mathbf{v}}^t_i &= \\text{tanh}(\\mathbf{W}_o \\mathbf{a}^t_{s, i} + \\mathbf{U}_o (\\mathbf{r}^t_{s,i} \\odot \\mathbf{v}^{t-1}_i)) \\tag{4} \\\\\n",
        "\\mathbf{v}^t_i &= (1-\\mathbf{z}^t_{s,i}) \\odot \\mathbf{v}^{t-1}_{i} + \\mathbf{z}^t_{s,i} \\odot \\tilde{\\mathbf{v}}^t_i \\tag{5}\n",
        "\\end{align}"
      ]
    },
    {
      "cell_type": "code",
      "execution_count": 6,
      "metadata": {
        "id": "oim6mliM1tI4"
      },
      "outputs": [],
      "source": [
        "class GGNN(nn.Module):\n",
        "\n",
        "    def __init__(self, embedding_size, step=1):\n",
        "        super(GGNN, self).__init__()\n",
        "        self.step = step  # GNN层数\n",
        "        self.embedding_size = embedding_size\n",
        "        self.input_size = embedding_size * 2\n",
        "        self.gate_size = embedding_size * 3\n",
        "\n",
        "        # hidden层参数\n",
        "        self.w_ih = Parameter(torch.Tensor(self.gate_size, self.input_size))\n",
        "        self.w_hh = Parameter(torch.Tensor(self.gate_size, self.embedding_size))\n",
        "        self.b_ih = Parameter(torch.Tensor(self.gate_size))\n",
        "        self.b_hh = Parameter(torch.Tensor(self.gate_size))\n",
        "        self.b_iah = Parameter(torch.Tensor(self.embedding_size))\n",
        "        self.b_ioh = Parameter(torch.Tensor(self.embedding_size))\n",
        "\n",
        "        # 矩阵 H 对应的线性变换\n",
        "        self.linear_edge_in = nn.Linear(self.embedding_size, self.embedding_size)\n",
        "        self.linear_edge_out = nn.Linear(self.embedding_size, self.embedding_size)\n",
        "\n",
        "    def GGNNCell(self, A, hidden):\n",
        "        \"\"\"\n",
        "        用GNN学习item embedding\n",
        "\n",
        "        Params:\n",
        "            A(torch.FloatTensor): 邻接矩阵, shape = [batch_size, max_session_len, 2 * max_session_len]\n",
        "            hidden(torch.FloatTensor): 矩阵[v_i], shape = [batch_size, max_session_len, embedding_size]\n",
        "\n",
        "        Returns:\n",
        "            v: node embedding矩阵, shape = [batch_size, max_session_len, embedding_size]\n",
        "        \"\"\"\n",
        "\n",
        "        # === 公式(1) ===\n",
        "        max_len = A.size(1)\n",
        "        H_in = self.linear_edge_in(hidden)\n",
        "        H_out = self.linear_edge_out(hidden)\n",
        "        input_in = torch.matmul(A[:, :, : max_len], H_in) + self.b_iah\n",
        "        input_out = torch.matmul(A[:, :, max_len: 2*max_len], H_out) + self.b_ioh\n",
        "        # shape = [batch_size, max_session_len, embedding_size * 2]\n",
        "        mat_a = torch.cat([input_in, input_out], 2)\n",
        "\n",
        "        # shape = [batch_size, max_session_len, embedding_size * 3]\n",
        "        Wa = F.linear(mat_a, self.w_ih, self.b_ih)  # W·[a]\n",
        "        Uv = F.linear(hidden, self.w_hh, self.b_hh)  # U·[v]\n",
        "        # shape = (batch_size, max_session_len, embedding_size)\n",
        "        Wza, Wra, Woa = Wa.chunk(3, 2)\n",
        "        Uzv, Urv, Uov = Uv.chunk(3, 2)\n",
        "\n",
        "        # === 公式(2)和(3) ===\n",
        "        gate_r = torch.sigmoid(Wra + Urv)  # update gate\n",
        "        gate_z = torch.sigmoid(Wza + Uzv)  # reset gate\n",
        "\n",
        "        # === 公式(4) ===\n",
        "        candidate = torch.tanh(Woa + gate_r * Uov)\n",
        "\n",
        "        # === 公式(5) ===\n",
        "        v = (1 - gate_z) * hidden + gate_z * candidate\n",
        "        return v\n",
        "\n",
        "    def forward(self, A, hidden):\n",
        "        for i in range(self.step):\n",
        "            hidden = self.GGNNCell(A, hidden)\n",
        "        return hidden"
      ]
    },
    {
      "cell_type": "markdown",
      "metadata": {
        "tags": [],
        "id": "9TTIC8d71tI5"
      },
      "source": [
        "## SR-GNN"
      ]
    },
    {
      "cell_type": "markdown",
      "metadata": {
        "id": "FzFJgpa11tI6"
      },
      "source": [
        "$$ \\mathbf{s}_l = \\mathbf{v}_n \\\\ $$\n",
        "\n",
        "\\begin{align}\n",
        "\\alpha_i &= \\mathbf{q}^T \\cdot \\sigma(\\mathbf{W}_1\\mathbf{v}_n + \\mathbf{W}_2\\mathbf{v}_i + \\mathbf{c}) \\\\\n",
        "\\mathbf{s}_g &= \\sum_{i=1}^n \\alpha_i \\mathbf{v}_i \\tag{6} \n",
        "\\end{align}\n",
        "\n",
        "\\begin{align}\n",
        "\\mathbf{s}_h = \\mathbf{W}_3 [\\mathbf{s}_l, \\mathbf{s}_g] \\tag{7} \n",
        "\\end{align}\n",
        "\n",
        "\\begin{align}\n",
        "\\mathbf{\\hat{z}}_i = \\mathbf{s}_h^T \\mathbf{v}_i \\tag{8} \n",
        "\\end{align}\n",
        "\n",
        "$$ \\mathbf{\\hat{y}} = \\text{softmax}(\\mathbf{z}) \\in \\mathbb{R}^m $$"
      ]
    },
    {
      "cell_type": "code",
      "execution_count": 7,
      "metadata": {
        "id": "C_aI30hS1tI6"
      },
      "outputs": [],
      "source": [
        "class SRGNN(nn.Module):\n",
        "\n",
        "    def __init__(self, item_size, embedding_size, step, device):\n",
        "        super(SRGNN, self).__init__()\n",
        "\n",
        "        # === 定义参数 ===\n",
        "        self.embedding_size = embedding_size\n",
        "        self.step = step\n",
        "        self.n_items = item_size\n",
        "        self.device = device\n",
        "\n",
        "        # === 定义layers ===\n",
        "        # item embedding, 将session映射到embedding空间\n",
        "        self.item_embedding = nn.Embedding(self.n_items, self.embedding_size, padding_idx=0)\n",
        "        # layers\n",
        "        self.gnn = GGNN(self.embedding_size, self.step)\n",
        "        self.W1 = nn.Linear(self.embedding_size, self.embedding_size)  # W1\n",
        "        self.W2 = nn.Linear(self.embedding_size, self.embedding_size)  # W2\n",
        "        self.q = nn.Linear(self.embedding_size, 1, bias=False)  # q'\n",
        "        self.W3 = nn.Linear(self.embedding_size * 2, self.embedding_size)  # W3\n",
        "\n",
        "        # === 初始化参数 ===\n",
        "        self._reset_parameters()\n",
        "\n",
        "    def _reset_parameters(self):\n",
        "        stdv = 1.0 / math.sqrt(self.embedding_size)\n",
        "        for weight in self.parameters():\n",
        "            weight.data.uniform_(-stdv, stdv)\n",
        "\n",
        "    def forward(self, item_seq, seq_len):\n",
        "        alias_inputs, A, items, mask = get_slice(item_seq, self.device)\n",
        "\n",
        "        # === 公式(1)~(5)，得到item vector v ===\n",
        "        hidden = self.item_embedding(items)\n",
        "        hidden = self.gnn(A, hidden)\n",
        "        alias_inputs = alias_inputs.view(-1, alias_inputs.size(1), 1).expand(-1, -1, self.embedding_size)\n",
        "        v = torch.gather(hidden, dim=1, index=alias_inputs)  # v of X, [bs, seq_len, emb_size]\n",
        "\n",
        "        # === 最后一个hidden state sl = vn ===\n",
        "        batchsize = mask.shape[0]\n",
        "        dim0_idx = torch.arange(batchsize).long()\n",
        "        dim1_idx = torch.sum(mask, 1) - 1\n",
        "        sl = v[dim0_idx, dim1_idx]\n",
        "\n",
        "        # === attention ===\n",
        "        q1 = self.W1(sl).view(sl.size(0), 1, sl.size(1))\n",
        "        q2 = self.W2(v)\n",
        "        alpha = self.q(torch.sigmoid(q1 + q2)).expand_as(v)  # [bs, seq_len, emb_size]\n",
        "        # sg = alpha * v\n",
        "        mask = mask.unsqueeze(2).expand_as(v).float()  # [bs, seq_len, emb_size]\n",
        "        sg = alpha * v * mask  # [bs, seq_len, emb_size]\n",
        "\n",
        "        # === concatenate ===\n",
        "        sh = self.W3(torch.cat([sg, v], dim=2))  # [bs, seq_len, emb_size]\n",
        "        # 映射回item_size空间\n",
        "        scores = sh @ self.item_embedding.weight.T  # [bs, seq_len, n_item]\n",
        "\n",
        "        return scores\n",
        "\n",
        "    def predict(self, item_seq):\n",
        "        self.eval()\n",
        "        with torch.no_grad():\n",
        "            scores = self.forward(item_seq, item_seq.shape[1])  # [bs, seq_len, emb_size]\n",
        "        self.train()\n",
        "        scores = scores[:, -1, :]  # 取最后一个timestep，[bs, item_size]\n",
        "        return scores"
      ]
    },
    {
      "cell_type": "markdown",
      "metadata": {
        "tags": [],
        "id": "uqKPWtHF1tI7"
      },
      "source": [
        "# 三、模型训练"
      ]
    },
    {
      "cell_type": "markdown",
      "metadata": {
        "jp-MarkdownHeadingCollapsed": true,
        "tags": [],
        "id": "6qmrj6Ux1tI7"
      },
      "source": [
        "## 评价指标"
      ]
    },
    {
      "cell_type": "code",
      "execution_count": 8,
      "metadata": {
        "id": "5pIGLFMU1tI7"
      },
      "outputs": [],
      "source": [
        "def test_HR_MRR(model, test_dataset, k=20):\n",
        "    count = 0\n",
        "    score = 0\n",
        "    for X, y in test_dataset:\n",
        "        X = torch.tensor(X, dtype=torch.long).to(device)\n",
        "        X = X.unsqueeze(0)  # [1, seq_len]\n",
        "\n",
        "        # 预测，获取Top-K items列表\n",
        "        output = model.predict(X).cpu().detach()  # [1, item_size]\n",
        "        output = output.squeeze(0)  # [item_size]\n",
        "        top_k = output.topk(k).indices.numpy()\n",
        "\n",
        "        if y in top_k:\n",
        "            # HR\n",
        "            count += 1\n",
        "            # MRR\n",
        "            rank_y = np.where(top_k == y)[0][0] + 1\n",
        "            score += 1 / rank_y\n",
        "\n",
        "    HR = count / len(test_dataset)\n",
        "    MRR = score / len(test_dataset)\n",
        "\n",
        "    return HR, MRR"
      ]
    },
    {
      "cell_type": "markdown",
      "metadata": {
        "id": "LTVEehi6CCg2",
        "jp-MarkdownHeadingCollapsed": true,
        "tags": []
      },
      "source": [
        "## 1. 模型训练设置\n",
        "\n",
        "定义了SRGNN的`ModelTrain`类，打包训练过程"
      ]
    },
    {
      "cell_type": "code",
      "execution_count": 9,
      "metadata": {
        "id": "zJJdTVh4CCg6",
        "tags": []
      },
      "outputs": [],
      "source": [
        "class ModelTrain:\n",
        "    def __init__(self, model, dataset, train_loader, test_loader, optimizer, loss_func, n_epoch):\n",
        "        self.model = model\n",
        "        self.train_dataset = dataset[0]\n",
        "        self.test_dataset = dataset[1]\n",
        "        self.train_loader = train_loader\n",
        "        self.test_loader = test_loader\n",
        "        self.optimizer = optimizer\n",
        "        self.loss_func = loss_func\n",
        "        self.n_epoch = n_epoch\n",
        "\n",
        "        # 记录loss\n",
        "        self.train_losses = []\n",
        "        # 记录test上的准确率\n",
        "        self.test_acc = []\n",
        "\n",
        "    def _train_one_epoch(self, epoch):\n",
        "        train_loss = 0.0\n",
        "        for batch_idx, batch in enumerate(self.train_loader):\n",
        "            # 获取batch数据\n",
        "            X = batch[0].to(device)  # [bs, seq_len]\n",
        "            y = batch[1].to(device)  # [bs]\n",
        "\n",
        "            # 模型预测\n",
        "            scores = self.model(X, X.shape[1])  # [bs, seq_len, item_size]\n",
        "            scores = scores.reshape(-1, scores.shape[-1])  # [bs*seq_len, n_item]\n",
        "            loss = self.loss_func(scores, y.flatten())\n",
        "            train_loss += loss.item()\n",
        "\n",
        "            # 反向传播，更新参数\n",
        "            self.optimizer.zero_grad()\n",
        "            loss.backward()\n",
        "            self.optimizer.step()\n",
        "        if epoch % 20 == 0:\n",
        "            print(f\"\\nepoch {epoch} ......\")\n",
        "            print(f\"train loss = {train_loss:.2f}\")\n",
        "        self.train_losses.append(train_loss)\n",
        "\n",
        "    def _test_one_epoch(self):\n",
        "        acc = 0\n",
        "        batch_idx = 0\n",
        "        for batch_idx, batch in enumerate(self.test_loader):\n",
        "            X = batch[0].to(device)\n",
        "            y = batch[1].to(device)  # [bs]\n",
        "            pred = self.model.predict(X)  # [bs, n_item]\n",
        "            pred = pred.argmax(1).cpu()  # [bs]\n",
        "            acc += np.sum(pred.numpy() == y.cpu().numpy()) / pred.shape[0]\n",
        "        acc /= (batch_idx + 1)\n",
        "        print(f\"test accuracy = {acc:.2f}\")\n",
        "        self.test_acc.append(acc)\n",
        "\n",
        "        # 计算评价指标\n",
        "        hit_ratio, MRR = test_HR_MRR(self.model, self.test_dataset)\n",
        "        print(f\"MRR = {MRR:.4f} | HR = {hit_ratio:.4%}\")\n",
        "\n",
        "    def train(self, test=False):\n",
        "        # 记录清零\n",
        "        self.train_losses = []\n",
        "        self.test_acc = []\n",
        "        # 训练\n",
        "        self.model.train()\n",
        "        for e in range(self.n_epoch):\n",
        "            self._train_one_epoch(e)\n",
        "\n",
        "            # 在test上进行测试，包括accuracy和评价指标的计算\n",
        "            if e % 20 == 0 and test:\n",
        "                self.model.eval()\n",
        "                with torch.no_grad():\n",
        "                    self._test_one_epoch()\n",
        "                self.model.train()\n",
        "\n",
        "    def get_info(self):\n",
        "        losses = {'train_losses': self.train_losses,\n",
        "                  'test_acc': self.test_acc}\n",
        "        return losses\n",
        "\n",
        "    def plot_train_loss(self):\n",
        "        plt.figure()\n",
        "        plt.plot(self.train_losses)\n",
        "        plt.ylabel('train loss')\n",
        "        plt.xlabel('epoch')\n",
        "        plt.show()\n",
        "\n",
        "    def plot_test_acc(self):\n",
        "        plt.figure()\n",
        "        plt.plot(self.test_acc)\n",
        "        plt.ylabel('test accuracy')\n",
        "        plt.xlabel('epoch')\n",
        "        plt.show()\n",
        "\n",
        "    def plot_performance(self):\n",
        "        fig = plt.figure(figsize=(14, 5))\n",
        "\n",
        "        ax = fig.add_subplot(121)\n",
        "        ax.plot(self.train_losses)\n",
        "        ax.set_ylabel('train_loss')\n",
        "        ax.set_xlabel('epoch')\n",
        "        ax.set_title(\"train loss change with epoch\")\n",
        "\n",
        "        ax = fig.add_subplot(122)\n",
        "        ax.plot([i * 20 for i in range(1, len(self.test_acc)+1)], self.test_acc)\n",
        "        ax.set_ylabel('test_accuracy')\n",
        "        ax.set_xlabel('epoch')\n",
        "        ax.set_title(\"test accuracy change per 20 epoches\")\n",
        "\n",
        "        plt.show()"
      ]
    },
    {
      "cell_type": "markdown",
      "metadata": {
        "jp-MarkdownHeadingCollapsed": true,
        "tags": [],
        "id": "94gRbIko1tI9"
      },
      "source": [
        "## 2. 超参数设置"
      ]
    },
    {
      "cell_type": "code",
      "execution_count": 15,
      "metadata": {
        "id": "3Ql1lxWo1tI9"
      },
      "outputs": [],
      "source": [
        "num_epoch = 101\n",
        "batch_size = 256\n",
        "lr = 0.01\n",
        "embedding_size = 100\n",
        "hidden_size = 128\n",
        "item_size = len(item_set) + 1  # +1是因为做了零填充，相当于增加了一个item '0'\n",
        "output_size = item_size\n",
        "device = torch.device(\"cuda\" if torch.cuda.is_available() else \"cpu\")"
      ]
    },
    {
      "cell_type": "code",
      "execution_count": 11,
      "metadata": {
        "colab": {
          "base_uri": "https://localhost:8080/"
        },
        "id": "lxMthLFY1tI9",
        "outputId": "c99aebdb-81be-45ca-8567-fc6ccf3e75f2"
      },
      "outputs": [
        {
          "output_type": "stream",
          "name": "stdout",
          "text": [
            "18055 4514\n"
          ]
        }
      ],
      "source": [
        "# 数据\n",
        "train_dataset = TrainDataset(train_data)\n",
        "test_dataset = MyDataset(test_data)\n",
        "print(len(train_dataset), len(test_dataset))\n",
        "\n",
        "train_loader = get_dataloader(batch_size, dataset=train_dataset, train=True)\n",
        "test_loader = get_dataloader(batch_size, dataset=test_dataset, train=False)"
      ]
    },
    {
      "cell_type": "markdown",
      "metadata": {
        "tags": [],
        "id": "FDBpFCnk1tI9"
      },
      "source": [
        "## 3. 训练和测试"
      ]
    },
    {
      "cell_type": "markdown",
      "source": [
        "lr = 0.01, batch_size = 256"
      ],
      "metadata": {
        "id": "MpMdeJPW2Fzn"
      }
    },
    {
      "cell_type": "code",
      "execution_count": 16,
      "metadata": {
        "colab": {
          "base_uri": "https://localhost:8080/"
        },
        "id": "bKob0O1b1tI-",
        "outputId": "86fa4768-ee9c-4224-b463-cc1fcf96cc8c"
      },
      "outputs": [
        {
          "output_type": "stream",
          "name": "stdout",
          "text": [
            "\n",
            "epoch 0 ......\n",
            "train loss = 433.92\n",
            "test accuracy = 0.03\n",
            "MRR = 0.0473 | HR = 10.3899%\n",
            "\n",
            "epoch 20 ......\n",
            "train loss = 21.73\n",
            "test accuracy = 0.04\n",
            "MRR = 0.0680 | HR = 13.1591%\n",
            "\n",
            "epoch 40 ......\n",
            "train loss = 29.55\n",
            "test accuracy = 0.05\n",
            "MRR = 0.0712 | HR = 13.9566%\n",
            "\n",
            "epoch 60 ......\n",
            "train loss = 8.41\n",
            "test accuracy = 0.05\n",
            "MRR = 0.0759 | HR = 14.9535%\n",
            "\n",
            "epoch 80 ......\n",
            "train loss = 19.61\n",
            "test accuracy = 0.05\n",
            "MRR = 0.0764 | HR = 14.4883%\n",
            "\n",
            "epoch 100 ......\n",
            "train loss = 9.19\n",
            "test accuracy = 0.05\n",
            "MRR = 0.0775 | HR = 14.9313%\n"
          ]
        }
      ],
      "source": [
        "model = SRGNN(item_size=item_size,\n",
        "              embedding_size=embedding_size,\n",
        "              step=1,\n",
        "              device=device).to(device)\n",
        "\n",
        "train = ModelTrain(model=model,\n",
        "                   dataset=(train_dataset, test_dataset),\n",
        "                   train_loader=train_loader,\n",
        "                   test_loader=test_loader,\n",
        "                   optimizer=torch.optim.Adam(model.parameters(), lr=lr),\n",
        "                   loss_func=nn.CrossEntropyLoss(),\n",
        "                   n_epoch=num_epoch)\n",
        "\n",
        "train.train(test=True)"
      ]
    },
    {
      "cell_type": "code",
      "execution_count": 18,
      "metadata": {
        "colab": {
          "base_uri": "https://localhost:8080/",
          "height": 350
        },
        "id": "kcIU-D801tI-",
        "outputId": "f96316e3-4683-4528-ee23-ff046e26822f"
      },
      "outputs": [
        {
          "output_type": "display_data",
          "data": {
            "text/plain": [
              "<Figure size 1008x360 with 2 Axes>"
            ],
            "image/png": "[encoded data removed]"
          },
          "metadata": {
            "needs_background": "light"
          }
        }
      ],
      "source": [
        "train.plot_performance()"
      ]
    },
    {
      "cell_type": "markdown",
      "source": [
        "lr = 0.005, batch_size = 256"
      ],
      "metadata": {
        "id": "G2-AfoFi2Pux"
      }
    },
    {
      "cell_type": "code",
      "execution_count": 19,
      "metadata": {
        "colab": {
          "base_uri": "https://localhost:8080/"
        },
        "outputId": "2847d0ab-728e-4cad-e36d-b9bfea2630bd",
        "id": "2lIbCMlC2wCk"
      },
      "outputs": [
        {
          "output_type": "stream",
          "name": "stdout",
          "text": [
            "\n",
            "epoch 0 ......\n",
            "train loss = 465.71\n",
            "test accuracy = 0.02\n",
            "MRR = 0.0376 | HR = 8.4183%\n",
            "\n",
            "epoch 20 ......\n",
            "train loss = 13.15\n",
            "test accuracy = 0.05\n",
            "MRR = 0.0796 | HR = 15.0642%\n",
            "\n",
            "epoch 40 ......\n",
            "train loss = 12.29\n",
            "test accuracy = 0.05\n",
            "MRR = 0.0725 | HR = 13.4471%\n",
            "\n",
            "epoch 60 ......\n",
            "train loss = 6.10\n",
            "test accuracy = 0.05\n",
            "MRR = 0.0761 | HR = 14.2003%\n",
            "\n",
            "epoch 80 ......\n",
            "train loss = 7.65\n",
            "test accuracy = 0.05\n",
            "MRR = 0.0712 | HR = 13.1369%\n",
            "\n",
            "epoch 100 ......\n",
            "train loss = 6.00\n",
            "test accuracy = 0.05\n",
            "MRR = 0.0743 | HR = 13.8458%\n"
          ]
        }
      ],
      "source": [
        "model = SRGNN(item_size=item_size,\n",
        "              embedding_size=embedding_size,\n",
        "              step=1,\n",
        "              device=device).to(device)\n",
        "\n",
        "train = ModelTrain(model=model,\n",
        "                   dataset=(train_dataset, test_dataset),\n",
        "                   train_loader=train_loader,\n",
        "                   test_loader=test_loader,\n",
        "                   optimizer=torch.optim.Adam(model.parameters(), lr=0.005),\n",
        "                   loss_func=nn.CrossEntropyLoss(),\n",
        "                   n_epoch=num_epoch)\n",
        "\n",
        "train.train(test=True)"
      ]
    },
    {
      "cell_type": "code",
      "source": [
        "train.plot_performance()"
      ],
      "metadata": {
        "colab": {
          "base_uri": "https://localhost:8080/",
          "height": 350
        },
        "id": "2MAu-kei2QN9",
        "outputId": "22f1f714-4315-48ec-a531-e33e234a7cdb"
      },
      "execution_count": 20,
      "outputs": [
        {
          "output_type": "display_data",
          "data": {
            "text/plain": [
              "<Figure size 1008x360 with 2 Axes>"
            ],
            "image/png": "[encoded data removed]"
          },
          "metadata": {
            "needs_background": "light"
          }
        }
      ]
    },
    {
      "cell_type": "markdown",
      "source": [
        "lr = 0.01, batch_size = 256"
      ],
      "metadata": {
        "id": "dKH-nrNO2QbA"
      }
    },
    {
      "cell_type": "code",
      "source": [
        ""
      ],
      "metadata": {
        "id": "_zO7wKCH2h7z"
      },
      "execution_count": null,
      "outputs": []
    }
  ],
  "metadata": {
    "interpreter": {
      "hash": "6722e1c430aa84dda42c1f3bd57fd26c2bbb20190f4c23f82220d33936873c2e"
    },
    "kernelspec": {
      "display_name": "Python 3 (ipykernel)",
      "language": "python",
      "name": "python3"
    },
    "language_info": {
      "codemirror_mode": {
        "name": "ipython",
        "version": 3
      },
      "file_extension": ".py",
      "mimetype": "text/x-python",
      "name": "python",
      "nbconvert_exporter": "python",
      "pygments_lexer": "ipython3",
      "version": "3.9.7"
    },
    "colab": {
      "name": "4 GGNNwATT.ipynb",
      "provenance": [],
      "collapsed_sections": [
        "heLWfd281tI1",
        "CVSaLPf61tI3",
        "6qmrj6Ux1tI7",
        "LTVEehi6CCg2"
      ]
    },
    "accelerator": "GPU"
  },
  "nbformat": 4,
  "nbformat_minor": 0
}